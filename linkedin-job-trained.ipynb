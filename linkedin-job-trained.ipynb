{
 "cells": [
  {
   "cell_type": "code",
   "execution_count": 1,
   "metadata": {
    "_cell_guid": "b1076dfc-b9ad-4769-8c92-a6c4dae69d19",
    "_uuid": "8f2839f25d086af736a60e9eeb907d3b93b6e0e5",
    "execution": {
     "iopub.execute_input": "2025-10-23T15:01:35.632915Z",
     "iopub.status.busy": "2025-10-23T15:01:35.632146Z",
     "iopub.status.idle": "2025-10-23T15:01:48.826184Z",
     "shell.execute_reply": "2025-10-23T15:01:48.825589Z",
     "shell.execute_reply.started": "2025-10-23T15:01:35.632888Z"
    },
    "trusted": true
   },
   "outputs": [
    {
     "name": "stderr",
     "output_type": "stream",
     "text": [
      "2025-10-23 15:01:37.745550: E external/local_xla/xla/stream_executor/cuda/cuda_fft.cc:477] Unable to register cuFFT factory: Attempting to register factory for plugin cuFFT when one has already been registered\n",
      "WARNING: All log messages before absl::InitializeLog() is called are written to STDERR\n",
      "E0000 00:00:1761231697.921787      37 cuda_dnn.cc:8310] Unable to register cuDNN factory: Attempting to register factory for plugin cuDNN when one has already been registered\n",
      "E0000 00:00:1761231697.980199      37 cuda_blas.cc:1418] Unable to register cuBLAS factory: Attempting to register factory for plugin cuBLAS when one has already been registered\n"
     ]
    }
   ],
   "source": [
    "\n",
    "import pandas as pd\n",
    "import numpy as np\n",
    "import pandas as pd\n",
    "from sklearn.model_selection import train_test_split\n",
    "from sklearn.preprocessing import LabelEncoder\n",
    "from tensorflow.keras.preprocessing.text import Tokenizer\n",
    "from tensorflow.keras.preprocessing.sequence import pad_sequences\n",
    "from tensorflow.keras.models import Model\n",
    "from tensorflow.keras.layers import Input, Embedding, SimpleRNN, LSTM, GRU, Dense, Dropout\n",
    "from tensorflow.keras.models import Sequential\n",
    "from tensorflow.keras.layers import Embedding, LSTM, Dense, Dropout\n",
    "from sklearn.feature_extraction.text import TfidfVectorizer\n",
    "from sklearn.cluster import KMeans\n",
    "from tensorflow.keras.optimizers import RMSprop, Adam, Adamax, Nadam, AdamW, Adagrad\n",
    "\n"
   ]
  },
  {
   "cell_type": "code",
   "execution_count": 2,
   "metadata": {
    "execution": {
     "iopub.execute_input": "2025-10-23T15:01:48.827921Z",
     "iopub.status.busy": "2025-10-23T15:01:48.827452Z",
     "iopub.status.idle": "2025-10-23T15:01:59.333703Z",
     "shell.execute_reply": "2025-10-23T15:01:59.332520Z",
     "shell.execute_reply.started": "2025-10-23T15:01:48.827903Z"
    },
    "trusted": true
   },
   "outputs": [
    {
     "name": "stderr",
     "output_type": "stream",
     "text": [
      "/usr/local/lib/python3.11/dist-packages/pandas/io/formats/format.py:1458: RuntimeWarning: invalid value encountered in greater\n",
      "  has_large_values = (abs_vals > 1e6).any()\n",
      "/usr/local/lib/python3.11/dist-packages/pandas/io/formats/format.py:1459: RuntimeWarning: invalid value encountered in less\n",
      "  has_small_values = ((abs_vals < 10 ** (-self.digits)) & (abs_vals > 0)).any()\n",
      "/usr/local/lib/python3.11/dist-packages/pandas/io/formats/format.py:1459: RuntimeWarning: invalid value encountered in greater\n",
      "  has_small_values = ((abs_vals < 10 ** (-self.digits)) & (abs_vals > 0)).any()\n",
      "/usr/local/lib/python3.11/dist-packages/pandas/io/formats/format.py:1458: RuntimeWarning: invalid value encountered in greater\n",
      "  has_large_values = (abs_vals > 1e6).any()\n",
      "/usr/local/lib/python3.11/dist-packages/pandas/io/formats/format.py:1459: RuntimeWarning: invalid value encountered in less\n",
      "  has_small_values = ((abs_vals < 10 ** (-self.digits)) & (abs_vals > 0)).any()\n",
      "/usr/local/lib/python3.11/dist-packages/pandas/io/formats/format.py:1459: RuntimeWarning: invalid value encountered in greater\n",
      "  has_small_values = ((abs_vals < 10 ** (-self.digits)) & (abs_vals > 0)).any()\n"
     ]
    },
    {
     "data": {
      "text/html": [
       "<div>\n",
       "<style scoped>\n",
       "    .dataframe tbody tr th:only-of-type {\n",
       "        vertical-align: middle;\n",
       "    }\n",
       "\n",
       "    .dataframe tbody tr th {\n",
       "        vertical-align: top;\n",
       "    }\n",
       "\n",
       "    .dataframe thead th {\n",
       "        text-align: right;\n",
       "    }\n",
       "</style>\n",
       "<table border=\"1\" class=\"dataframe\">\n",
       "  <thead>\n",
       "    <tr style=\"text-align: right;\">\n",
       "      <th></th>\n",
       "      <th>job_id</th>\n",
       "      <th>company_name</th>\n",
       "      <th>title</th>\n",
       "      <th>description</th>\n",
       "      <th>max_salary</th>\n",
       "      <th>pay_period</th>\n",
       "      <th>location</th>\n",
       "      <th>company_id</th>\n",
       "      <th>views</th>\n",
       "      <th>med_salary</th>\n",
       "      <th>...</th>\n",
       "      <th>skills_desc</th>\n",
       "      <th>listed_time</th>\n",
       "      <th>posting_domain</th>\n",
       "      <th>sponsored</th>\n",
       "      <th>work_type</th>\n",
       "      <th>currency</th>\n",
       "      <th>compensation_type</th>\n",
       "      <th>normalized_salary</th>\n",
       "      <th>zip_code</th>\n",
       "      <th>fips</th>\n",
       "    </tr>\n",
       "  </thead>\n",
       "  <tbody>\n",
       "    <tr>\n",
       "      <th>0</th>\n",
       "      <td>921716</td>\n",
       "      <td>Corcoran Sawyer Smith</td>\n",
       "      <td>Marketing Coordinator</td>\n",
       "      <td>Job descriptionA leading real estate firm in N...</td>\n",
       "      <td>20.0</td>\n",
       "      <td>HOURLY</td>\n",
       "      <td>Princeton, NJ</td>\n",
       "      <td>2774458.0</td>\n",
       "      <td>20.0</td>\n",
       "      <td>NaN</td>\n",
       "      <td>...</td>\n",
       "      <td>Requirements: \\n\\nWe are seeking a College or ...</td>\n",
       "      <td>1.713398e+12</td>\n",
       "      <td>NaN</td>\n",
       "      <td>0</td>\n",
       "      <td>FULL_TIME</td>\n",
       "      <td>USD</td>\n",
       "      <td>BASE_SALARY</td>\n",
       "      <td>38480.0</td>\n",
       "      <td>8540.0</td>\n",
       "      <td>34021.0</td>\n",
       "    </tr>\n",
       "    <tr>\n",
       "      <th>1</th>\n",
       "      <td>1829192</td>\n",
       "      <td>NaN</td>\n",
       "      <td>Mental Health Therapist/Counselor</td>\n",
       "      <td>At Aspen Therapy and Wellness , we are committ...</td>\n",
       "      <td>50.0</td>\n",
       "      <td>HOURLY</td>\n",
       "      <td>Fort Collins, CO</td>\n",
       "      <td>NaN</td>\n",
       "      <td>1.0</td>\n",
       "      <td>NaN</td>\n",
       "      <td>...</td>\n",
       "      <td>NaN</td>\n",
       "      <td>1.712858e+12</td>\n",
       "      <td>NaN</td>\n",
       "      <td>0</td>\n",
       "      <td>FULL_TIME</td>\n",
       "      <td>USD</td>\n",
       "      <td>BASE_SALARY</td>\n",
       "      <td>83200.0</td>\n",
       "      <td>80521.0</td>\n",
       "      <td>8069.0</td>\n",
       "    </tr>\n",
       "    <tr>\n",
       "      <th>2</th>\n",
       "      <td>10998357</td>\n",
       "      <td>The National Exemplar</td>\n",
       "      <td>Assitant Restaurant Manager</td>\n",
       "      <td>The National Exemplar is accepting application...</td>\n",
       "      <td>65000.0</td>\n",
       "      <td>YEARLY</td>\n",
       "      <td>Cincinnati, OH</td>\n",
       "      <td>64896719.0</td>\n",
       "      <td>8.0</td>\n",
       "      <td>NaN</td>\n",
       "      <td>...</td>\n",
       "      <td>We are currently accepting resumes for FOH - A...</td>\n",
       "      <td>1.713278e+12</td>\n",
       "      <td>NaN</td>\n",
       "      <td>0</td>\n",
       "      <td>FULL_TIME</td>\n",
       "      <td>USD</td>\n",
       "      <td>BASE_SALARY</td>\n",
       "      <td>55000.0</td>\n",
       "      <td>45202.0</td>\n",
       "      <td>39061.0</td>\n",
       "    </tr>\n",
       "    <tr>\n",
       "      <th>3</th>\n",
       "      <td>23221523</td>\n",
       "      <td>Abrams Fensterman, LLP</td>\n",
       "      <td>Senior Elder Law / Trusts and Estates Associat...</td>\n",
       "      <td>Senior Associate Attorney - Elder Law / Trusts...</td>\n",
       "      <td>175000.0</td>\n",
       "      <td>YEARLY</td>\n",
       "      <td>New Hyde Park, NY</td>\n",
       "      <td>766262.0</td>\n",
       "      <td>16.0</td>\n",
       "      <td>NaN</td>\n",
       "      <td>...</td>\n",
       "      <td>This position requires a baseline understandin...</td>\n",
       "      <td>1.712896e+12</td>\n",
       "      <td>NaN</td>\n",
       "      <td>0</td>\n",
       "      <td>FULL_TIME</td>\n",
       "      <td>USD</td>\n",
       "      <td>BASE_SALARY</td>\n",
       "      <td>157500.0</td>\n",
       "      <td>11040.0</td>\n",
       "      <td>36059.0</td>\n",
       "    </tr>\n",
       "    <tr>\n",
       "      <th>4</th>\n",
       "      <td>35982263</td>\n",
       "      <td>NaN</td>\n",
       "      <td>Service Technician</td>\n",
       "      <td>Looking for HVAC service tech with experience ...</td>\n",
       "      <td>80000.0</td>\n",
       "      <td>YEARLY</td>\n",
       "      <td>Burlington, IA</td>\n",
       "      <td>NaN</td>\n",
       "      <td>3.0</td>\n",
       "      <td>NaN</td>\n",
       "      <td>...</td>\n",
       "      <td>NaN</td>\n",
       "      <td>1.713452e+12</td>\n",
       "      <td>NaN</td>\n",
       "      <td>0</td>\n",
       "      <td>FULL_TIME</td>\n",
       "      <td>USD</td>\n",
       "      <td>BASE_SALARY</td>\n",
       "      <td>70000.0</td>\n",
       "      <td>52601.0</td>\n",
       "      <td>19057.0</td>\n",
       "    </tr>\n",
       "  </tbody>\n",
       "</table>\n",
       "<p>5 rows × 31 columns</p>\n",
       "</div>"
      ],
      "text/plain": [
       "     job_id            company_name  \\\n",
       "0    921716   Corcoran Sawyer Smith   \n",
       "1   1829192                     NaN   \n",
       "2  10998357  The National Exemplar    \n",
       "3  23221523  Abrams Fensterman, LLP   \n",
       "4  35982263                     NaN   \n",
       "\n",
       "                                               title  \\\n",
       "0                              Marketing Coordinator   \n",
       "1                  Mental Health Therapist/Counselor   \n",
       "2                        Assitant Restaurant Manager   \n",
       "3  Senior Elder Law / Trusts and Estates Associat...   \n",
       "4                                 Service Technician   \n",
       "\n",
       "                                         description  max_salary pay_period  \\\n",
       "0  Job descriptionA leading real estate firm in N...        20.0     HOURLY   \n",
       "1  At Aspen Therapy and Wellness , we are committ...        50.0     HOURLY   \n",
       "2  The National Exemplar is accepting application...     65000.0     YEARLY   \n",
       "3  Senior Associate Attorney - Elder Law / Trusts...    175000.0     YEARLY   \n",
       "4  Looking for HVAC service tech with experience ...     80000.0     YEARLY   \n",
       "\n",
       "            location  company_id  views  med_salary  ...  \\\n",
       "0      Princeton, NJ   2774458.0   20.0         NaN  ...   \n",
       "1   Fort Collins, CO         NaN    1.0         NaN  ...   \n",
       "2     Cincinnati, OH  64896719.0    8.0         NaN  ...   \n",
       "3  New Hyde Park, NY    766262.0   16.0         NaN  ...   \n",
       "4     Burlington, IA         NaN    3.0         NaN  ...   \n",
       "\n",
       "                                         skills_desc   listed_time  \\\n",
       "0  Requirements: \\n\\nWe are seeking a College or ...  1.713398e+12   \n",
       "1                                                NaN  1.712858e+12   \n",
       "2  We are currently accepting resumes for FOH - A...  1.713278e+12   \n",
       "3  This position requires a baseline understandin...  1.712896e+12   \n",
       "4                                                NaN  1.713452e+12   \n",
       "\n",
       "   posting_domain  sponsored  work_type currency compensation_type  \\\n",
       "0             NaN          0  FULL_TIME      USD       BASE_SALARY   \n",
       "1             NaN          0  FULL_TIME      USD       BASE_SALARY   \n",
       "2             NaN          0  FULL_TIME      USD       BASE_SALARY   \n",
       "3             NaN          0  FULL_TIME      USD       BASE_SALARY   \n",
       "4             NaN          0  FULL_TIME      USD       BASE_SALARY   \n",
       "\n",
       "  normalized_salary  zip_code     fips  \n",
       "0           38480.0    8540.0  34021.0  \n",
       "1           83200.0   80521.0   8069.0  \n",
       "2           55000.0   45202.0  39061.0  \n",
       "3          157500.0   11040.0  36059.0  \n",
       "4           70000.0   52601.0  19057.0  \n",
       "\n",
       "[5 rows x 31 columns]"
      ]
     },
     "execution_count": 2,
     "metadata": {},
     "output_type": "execute_result"
    }
   ],
   "source": [
    "# 1. Load data\n",
    "df = pd.read_csv(\"/kaggle/input/linkedin-job-postings/postings.csv\")\n",
    "df.head()"
   ]
  },
  {
   "cell_type": "code",
   "execution_count": 3,
   "metadata": {
    "execution": {
     "iopub.execute_input": "2025-10-23T15:01:59.334882Z",
     "iopub.status.busy": "2025-10-23T15:01:59.334536Z",
     "iopub.status.idle": "2025-10-23T15:01:59.378231Z",
     "shell.execute_reply": "2025-10-23T15:01:59.377672Z",
     "shell.execute_reply.started": "2025-10-23T15:01:59.334857Z"
    },
    "trusted": true
   },
   "outputs": [
    {
     "data": {
      "text/html": [
       "<div>\n",
       "<style scoped>\n",
       "    .dataframe tbody tr th:only-of-type {\n",
       "        vertical-align: middle;\n",
       "    }\n",
       "\n",
       "    .dataframe tbody tr th {\n",
       "        vertical-align: top;\n",
       "    }\n",
       "\n",
       "    .dataframe thead th {\n",
       "        text-align: right;\n",
       "    }\n",
       "</style>\n",
       "<table border=\"1\" class=\"dataframe\">\n",
       "  <thead>\n",
       "    <tr style=\"text-align: right;\">\n",
       "      <th></th>\n",
       "      <th>title</th>\n",
       "      <th>description</th>\n",
       "    </tr>\n",
       "  </thead>\n",
       "  <tbody>\n",
       "    <tr>\n",
       "      <th>0</th>\n",
       "      <td>Marketing Coordinator</td>\n",
       "      <td>Job descriptionA leading real estate firm in N...</td>\n",
       "    </tr>\n",
       "    <tr>\n",
       "      <th>1</th>\n",
       "      <td>Mental Health Therapist/Counselor</td>\n",
       "      <td>At Aspen Therapy and Wellness , we are committ...</td>\n",
       "    </tr>\n",
       "    <tr>\n",
       "      <th>2</th>\n",
       "      <td>Assitant Restaurant Manager</td>\n",
       "      <td>The National Exemplar is accepting application...</td>\n",
       "    </tr>\n",
       "    <tr>\n",
       "      <th>3</th>\n",
       "      <td>Senior Elder Law / Trusts and Estates Associat...</td>\n",
       "      <td>Senior Associate Attorney - Elder Law / Trusts...</td>\n",
       "    </tr>\n",
       "    <tr>\n",
       "      <th>4</th>\n",
       "      <td>Service Technician</td>\n",
       "      <td>Looking for HVAC service tech with experience ...</td>\n",
       "    </tr>\n",
       "  </tbody>\n",
       "</table>\n",
       "</div>"
      ],
      "text/plain": [
       "                                               title  \\\n",
       "0                              Marketing Coordinator   \n",
       "1                  Mental Health Therapist/Counselor   \n",
       "2                        Assitant Restaurant Manager   \n",
       "3  Senior Elder Law / Trusts and Estates Associat...   \n",
       "4                                 Service Technician   \n",
       "\n",
       "                                         description  \n",
       "0  Job descriptionA leading real estate firm in N...  \n",
       "1  At Aspen Therapy and Wellness , we are committ...  \n",
       "2  The National Exemplar is accepting application...  \n",
       "3  Senior Associate Attorney - Elder Law / Trusts...  \n",
       "4  Looking for HVAC service tech with experience ...  "
      ]
     },
     "execution_count": 3,
     "metadata": {},
     "output_type": "execute_result"
    }
   ],
   "source": [
    "df = df[['title', 'description']].dropna()\n",
    "df.head()\n"
   ]
  },
  {
   "cell_type": "code",
   "execution_count": 4,
   "metadata": {
    "execution": {
     "iopub.execute_input": "2025-10-23T15:01:59.379823Z",
     "iopub.status.busy": "2025-10-23T15:01:59.379615Z",
     "iopub.status.idle": "2025-10-23T15:01:59.424079Z",
     "shell.execute_reply": "2025-10-23T15:01:59.423338Z",
     "shell.execute_reply.started": "2025-10-23T15:01:59.379806Z"
    },
    "trusted": true
   },
   "outputs": [
    {
     "data": {
      "text/plain": [
       "array([673, 373, 354, 254, 238, 228, 211, 210, 204, 200, 195, 190, 189,\n",
       "       181, 175, 171, 166, 162, 161, 155, 154, 146, 137, 135, 133, 130,\n",
       "       127, 126, 123, 122, 119, 114, 113, 112, 110, 109, 107, 104, 103,\n",
       "       102,  97,  95,  94,  92,  91,  90,  88,  87,  86,  84,  83,  81,\n",
       "        79,  78,  76,  75,  74,  73,  72,  71,  70,  69,  68,  65,  64,\n",
       "        63,  62,  61,  60,  59,  58,  57,  56,  55,  54,  53,  52,  51,\n",
       "        48,  47,  46,  45,  44,  43,  42,  41,  40,  39,  38,  37,  36,\n",
       "        35,  34,  33,  32,  31,  30,  29,  28,  27,  26,  25,  24,  23,\n",
       "        22,  21,  20,  19,  18,  17,  16,  15,  14,  13,  12,  11,  10,\n",
       "         9,   8,   7,   6,   5,   4,   3,   2,   1])"
      ]
     },
     "execution_count": 4,
     "metadata": {},
     "output_type": "execute_result"
    }
   ],
   "source": [
    "# 2. Encode titles as classes\n",
    "title_counts = df['title'].value_counts()\n",
    "title_counts.unique()"
   ]
  },
  {
   "cell_type": "code",
   "execution_count": 5,
   "metadata": {
    "execution": {
     "iopub.execute_input": "2025-10-23T15:01:59.425006Z",
     "iopub.status.busy": "2025-10-23T15:01:59.424763Z",
     "iopub.status.idle": "2025-10-23T15:01:59.446929Z",
     "shell.execute_reply": "2025-10-23T15:01:59.446387Z",
     "shell.execute_reply.started": "2025-10-23T15:01:59.424977Z"
    },
    "trusted": true
   },
   "outputs": [
    {
     "data": {
      "text/plain": [
       "array(['Marketing Coordinator', 'Mental Health Therapist/Counselor',\n",
       "       'Assitant Restaurant Manager', ...,\n",
       "       'Staff Software Engineer, ML Serving Platform',\n",
       "       'Account Executive, Oregon/Washington',\n",
       "       'Marketing Social Media Specialist'], dtype=object)"
      ]
     },
     "execution_count": 5,
     "metadata": {},
     "output_type": "execute_result"
    }
   ],
   "source": [
    "job_title = df['title'].unique()\n",
    "job_title"
   ]
  },
  {
   "cell_type": "code",
   "execution_count": 6,
   "metadata": {
    "execution": {
     "iopub.execute_input": "2025-10-23T15:01:59.447834Z",
     "iopub.status.busy": "2025-10-23T15:01:59.447542Z",
     "iopub.status.idle": "2025-10-23T15:01:59.452206Z",
     "shell.execute_reply": "2025-10-23T15:01:59.451510Z",
     "shell.execute_reply.started": "2025-10-23T15:01:59.447818Z"
    },
    "trusted": true
   },
   "outputs": [],
   "source": [
    "titles = df['title'].astype(str)"
   ]
  },
  {
   "cell_type": "code",
   "execution_count": 7,
   "metadata": {
    "execution": {
     "iopub.execute_input": "2025-10-23T15:02:00.146601Z",
     "iopub.status.busy": "2025-10-23T15:02:00.145895Z",
     "iopub.status.idle": "2025-10-23T15:02:00.743915Z",
     "shell.execute_reply": "2025-10-23T15:02:00.743070Z",
     "shell.execute_reply.started": "2025-10-23T15:02:00.146576Z"
    },
    "trusted": true
   },
   "outputs": [],
   "source": [
    "from sklearn.feature_extraction.text import TfidfVectorizer\n",
    "from sklearn.cluster import KMeans\n",
    "vectorizer = TfidfVectorizer(stop_words='english', max_features=5000)\n",
    "X_titles = vectorizer.fit_transform(titles)"
   ]
  },
  {
   "cell_type": "code",
   "execution_count": 8,
   "metadata": {
    "execution": {
     "iopub.execute_input": "2025-10-23T15:02:04.040958Z",
     "iopub.status.busy": "2025-10-23T15:02:04.040103Z",
     "iopub.status.idle": "2025-10-23T15:02:05.877242Z",
     "shell.execute_reply": "2025-10-23T15:02:05.876667Z",
     "shell.execute_reply.started": "2025-10-23T15:02:04.040928Z"
    },
    "trusted": true
   },
   "outputs": [],
   "source": [
    "#making the clusters to join the similar jobs together \n",
    "n_clusters = 10\n",
    "kmeans = KMeans(n_clusters=n_clusters, random_state=42, n_init=10)\n",
    "df['cluster'] = kmeans.fit_predict(X_titles)"
   ]
  },
  {
   "cell_type": "code",
   "execution_count": 9,
   "metadata": {
    "execution": {
     "iopub.execute_input": "2025-10-23T15:02:08.143117Z",
     "iopub.status.busy": "2025-10-23T15:02:08.142639Z",
     "iopub.status.idle": "2025-10-23T15:02:08.149834Z",
     "shell.execute_reply": "2025-10-23T15:02:08.149049Z",
     "shell.execute_reply.started": "2025-10-23T15:02:08.143096Z"
    },
    "trusted": true
   },
   "outputs": [],
   "source": [
    "# Step 3: Extract top terms per cluster to name them\n",
    "terms = np.array(vectorizer.get_feature_names_out())\n",
    "cluster_names = {}"
   ]
  },
  {
   "cell_type": "code",
   "execution_count": 10,
   "metadata": {
    "execution": {
     "iopub.execute_input": "2025-10-23T15:02:11.405564Z",
     "iopub.status.busy": "2025-10-23T15:02:11.405078Z",
     "iopub.status.idle": "2025-10-23T15:02:11.412000Z",
     "shell.execute_reply": "2025-10-23T15:02:11.411333Z",
     "shell.execute_reply.started": "2025-10-23T15:02:11.405544Z"
    },
    "trusted": true
   },
   "outputs": [],
   "source": [
    "for i in range(n_clusters):\n",
    "    # get top 5 words with highest weights in that cluster center\n",
    "    center_terms_idx = kmeans.cluster_centers_[i].argsort()[-5:][::-1]\n",
    "    top_terms = terms[center_terms_idx]\n",
    "    cluster_names[i] = \" / \".join(top_terms)"
   ]
  },
  {
   "cell_type": "code",
   "execution_count": null,
   "metadata": {
    "execution": {
     "iopub.execute_input": "2025-10-23T15:02:17.471363Z",
     "iopub.status.busy": "2025-10-23T15:02:17.471084Z",
     "iopub.status.idle": "2025-10-23T15:02:17.478388Z",
     "shell.execute_reply": "2025-10-23T15:02:17.477801Z",
     "shell.execute_reply.started": "2025-10-23T15:02:17.471343Z"
    },
    "trusted": true
   },
   "outputs": [],
   "source": [
    "# Step 4: Add human-readable cluster names\n",
    "df['job_category'] = df['cluster'].map(cluster_names)"
   ]
  },
  {
   "cell_type": "code",
   "execution_count": 12,
   "metadata": {
    "execution": {
     "iopub.execute_input": "2025-10-23T15:02:17.501071Z",
     "iopub.status.busy": "2025-10-23T15:02:17.500721Z",
     "iopub.status.idle": "2025-10-23T15:02:17.529213Z",
     "shell.execute_reply": "2025-10-23T15:02:17.528500Z",
     "shell.execute_reply.started": "2025-10-23T15:02:17.501055Z"
    },
    "trusted": true
   },
   "outputs": [
    {
     "name": "stdout",
     "output_type": "stream",
     "text": [
      "Cluster 0: customer / service / representative / specialist / manager\n",
      "['Inside Customer Service Associate', 'Customer Service / Reservationist', 'Customer Service Representative', 'Client Service Associate', 'Service Manager']\n",
      "--------------------------------------------------------------------------------\n",
      "Cluster 1: specialist / analyst / associate / senior / coordinator\n",
      "['Marketing Coordinator', 'Mental Health Therapist/Counselor', 'Senior Elder Law / Trusts and Estates Associate Attorney', 'Economic Development and Planning Intern', 'Producer']\n",
      "--------------------------------------------------------------------------------\n",
      "Cluster 2: technician / maintenance / service / field / care\n",
      "[' Service Technician', 'Service / Construction Technician', 'HVAC Technician', 'Robot Monitor & Maintenance Technician', 'Professional Window Cleaning Technician']\n",
      "--------------------------------------------------------------------------------\n",
      "Cluster 3: director / development / operations / sales / marketing\n",
      "['Director of Training', 'Director of Public Works', 'Assistant Director of Admission, Midwest Regional Representative', 'Director of Operations', 'Director of Communications and Digital Diplomacy']\n",
      "--------------------------------------------------------------------------------\n",
      "Cluster 4: sales / associate / manager / representative / retail\n",
      "['SALES', 'Sales Associate Natural Food Products', 'Industrial Sales Representative', 'National Sales Manager', 'Sales Representative']\n",
      "--------------------------------------------------------------------------------\n",
      "Cluster 5: manager / project / senior / account / product\n",
      "['Assitant Restaurant Manager', 'Senior Product Marketing Manager', 'Manager, Retail Pharmacy', 'Commercial Property Manager', 'Reps manager']\n",
      "--------------------------------------------------------------------------------\n",
      "Cluster 6: engineer / senior / electrical / data / mechanical\n",
      "['Building Engineer', 'Structural Engineer', 'Full Stack Engineer', 'Validation Engineer, Labware LIMS', 'Project Engineer']\n",
      "--------------------------------------------------------------------------------\n",
      "Cluster 7: nurse / registered / rn / practical / licensed\n",
      "['Registered Nurse', 'Nurse Injector', 'Primary Care Nurse Practitioner / Physician Assistant', 'Nurse Practitioner', 'Registered Nurse RN - Medical ICU MICU - PT Nights']\n",
      "--------------------------------------------------------------------------------\n",
      "Cluster 8: assistant / manager / administrative / store / executive\n",
      "['Physician Assistant', 'Administrative Assistant', 'Blog writer and virtual assistant', 'Executive Assistant', 'Administrative Assistant - CONCUR']\n",
      "--------------------------------------------------------------------------------\n",
      "Cluster 9: developer / software / engineer / senior / java\n",
      "['Software Engineer', 'Software Engineer', 'Software Support Specialist', 'Salesforce Vlocity Developer', 'Anaplan Developer']\n",
      "--------------------------------------------------------------------------------\n"
     ]
    }
   ],
   "source": [
    "# view results\n",
    "for i, name in cluster_names.items():\n",
    "    print(f\"Cluster {i}: {name}\")\n",
    "    print(df[df['cluster']==i]['title'].head(5).to_list())\n",
    "    print('-'*80)"
   ]
  },
  {
   "cell_type": "code",
   "execution_count": 13,
   "metadata": {
    "execution": {
     "iopub.execute_input": "2025-10-23T15:02:17.530740Z",
     "iopub.status.busy": "2025-10-23T15:02:17.530494Z",
     "iopub.status.idle": "2025-10-23T15:02:17.570119Z",
     "shell.execute_reply": "2025-10-23T15:02:17.569519Z",
     "shell.execute_reply.started": "2025-10-23T15:02:17.530724Z"
    },
    "trusted": true
   },
   "outputs": [
    {
     "data": {
      "text/html": [
       "<div>\n",
       "<style scoped>\n",
       "    .dataframe tbody tr th:only-of-type {\n",
       "        vertical-align: middle;\n",
       "    }\n",
       "\n",
       "    .dataframe tbody tr th {\n",
       "        vertical-align: top;\n",
       "    }\n",
       "\n",
       "    .dataframe thead th {\n",
       "        text-align: right;\n",
       "    }\n",
       "</style>\n",
       "<table border=\"1\" class=\"dataframe\">\n",
       "  <thead>\n",
       "    <tr style=\"text-align: right;\">\n",
       "      <th></th>\n",
       "      <th>description</th>\n",
       "      <th>job_category</th>\n",
       "    </tr>\n",
       "  </thead>\n",
       "  <tbody>\n",
       "    <tr>\n",
       "      <th>0</th>\n",
       "      <td>Job descriptionA leading real estate firm in N...</td>\n",
       "      <td>specialist / analyst / associate / senior / co...</td>\n",
       "    </tr>\n",
       "    <tr>\n",
       "      <th>1</th>\n",
       "      <td>At Aspen Therapy and Wellness , we are committ...</td>\n",
       "      <td>specialist / analyst / associate / senior / co...</td>\n",
       "    </tr>\n",
       "    <tr>\n",
       "      <th>2</th>\n",
       "      <td>The National Exemplar is accepting application...</td>\n",
       "      <td>manager / project / senior / account / product</td>\n",
       "    </tr>\n",
       "    <tr>\n",
       "      <th>3</th>\n",
       "      <td>Senior Associate Attorney - Elder Law / Trusts...</td>\n",
       "      <td>specialist / analyst / associate / senior / co...</td>\n",
       "    </tr>\n",
       "    <tr>\n",
       "      <th>4</th>\n",
       "      <td>Looking for HVAC service tech with experience ...</td>\n",
       "      <td>technician / maintenance / service / field / care</td>\n",
       "    </tr>\n",
       "  </tbody>\n",
       "</table>\n",
       "</div>"
      ],
      "text/plain": [
       "                                         description  \\\n",
       "0  Job descriptionA leading real estate firm in N...   \n",
       "1  At Aspen Therapy and Wellness , we are committ...   \n",
       "2  The National Exemplar is accepting application...   \n",
       "3  Senior Associate Attorney - Elder Law / Trusts...   \n",
       "4  Looking for HVAC service tech with experience ...   \n",
       "\n",
       "                                        job_category  \n",
       "0  specialist / analyst / associate / senior / co...  \n",
       "1  specialist / analyst / associate / senior / co...  \n",
       "2     manager / project / senior / account / product  \n",
       "3  specialist / analyst / associate / senior / co...  \n",
       "4  technician / maintenance / service / field / care  "
      ]
     },
     "execution_count": 13,
     "metadata": {},
     "output_type": "execute_result"
    }
   ],
   "source": [
    "df = df[['description', 'job_category']].dropna()\n",
    "df.head()"
   ]
  },
  {
   "cell_type": "code",
   "execution_count": 15,
   "metadata": {
    "execution": {
     "iopub.execute_input": "2025-10-23T15:02:49.935495Z",
     "iopub.status.busy": "2025-10-23T15:02:49.935181Z",
     "iopub.status.idle": "2025-10-23T15:03:20.453807Z",
     "shell.execute_reply": "2025-10-23T15:03:20.453017Z",
     "shell.execute_reply.started": "2025-10-23T15:02:49.935474Z"
    },
    "trusted": true
   },
   "outputs": [],
   "source": [
    "#standerize the txt like removing\"Job descriptionA\"\n",
    "import re\n",
    "def clean_text(text):\n",
    "    text = text.lower()\n",
    "    text = re.sub(r'job description[a-z]*', '', text)\n",
    "    text = re.sub(r'[^a-zA-Z\\s]', '', text)\n",
    "    text = re.sub(r'\\s+', ' ', text).strip()\n",
    "    return text\n",
    "\n",
    "df['clean_text'] = df['description'].astype(str).apply(clean_text)"
   ]
  },
  {
   "cell_type": "code",
   "execution_count": 16,
   "metadata": {
    "execution": {
     "iopub.execute_input": "2025-10-23T15:03:20.455090Z",
     "iopub.status.busy": "2025-10-23T15:03:20.454859Z",
     "iopub.status.idle": "2025-10-23T15:03:20.462855Z",
     "shell.execute_reply": "2025-10-23T15:03:20.462285Z",
     "shell.execute_reply.started": "2025-10-23T15:03:20.455074Z"
    },
    "trusted": true
   },
   "outputs": [
    {
     "data": {
      "text/html": [
       "<div>\n",
       "<style scoped>\n",
       "    .dataframe tbody tr th:only-of-type {\n",
       "        vertical-align: middle;\n",
       "    }\n",
       "\n",
       "    .dataframe tbody tr th {\n",
       "        vertical-align: top;\n",
       "    }\n",
       "\n",
       "    .dataframe thead th {\n",
       "        text-align: right;\n",
       "    }\n",
       "</style>\n",
       "<table border=\"1\" class=\"dataframe\">\n",
       "  <thead>\n",
       "    <tr style=\"text-align: right;\">\n",
       "      <th></th>\n",
       "      <th>description</th>\n",
       "      <th>job_category</th>\n",
       "      <th>clean_text</th>\n",
       "    </tr>\n",
       "  </thead>\n",
       "  <tbody>\n",
       "    <tr>\n",
       "      <th>0</th>\n",
       "      <td>Job descriptionA leading real estate firm in N...</td>\n",
       "      <td>specialist / analyst / associate / senior / co...</td>\n",
       "      <td>leading real estate firm in new jersey is seek...</td>\n",
       "    </tr>\n",
       "    <tr>\n",
       "      <th>1</th>\n",
       "      <td>At Aspen Therapy and Wellness , we are committ...</td>\n",
       "      <td>specialist / analyst / associate / senior / co...</td>\n",
       "      <td>at aspen therapy and wellness we are committed...</td>\n",
       "    </tr>\n",
       "    <tr>\n",
       "      <th>2</th>\n",
       "      <td>The National Exemplar is accepting application...</td>\n",
       "      <td>manager / project / senior / account / product</td>\n",
       "      <td>the national exemplar is accepting application...</td>\n",
       "    </tr>\n",
       "    <tr>\n",
       "      <th>3</th>\n",
       "      <td>Senior Associate Attorney - Elder Law / Trusts...</td>\n",
       "      <td>specialist / analyst / associate / senior / co...</td>\n",
       "      <td>senior associate attorney elder law trusts and...</td>\n",
       "    </tr>\n",
       "    <tr>\n",
       "      <th>4</th>\n",
       "      <td>Looking for HVAC service tech with experience ...</td>\n",
       "      <td>technician / maintenance / service / field / care</td>\n",
       "      <td>looking for hvac service tech with experience ...</td>\n",
       "    </tr>\n",
       "  </tbody>\n",
       "</table>\n",
       "</div>"
      ],
      "text/plain": [
       "                                         description  \\\n",
       "0  Job descriptionA leading real estate firm in N...   \n",
       "1  At Aspen Therapy and Wellness , we are committ...   \n",
       "2  The National Exemplar is accepting application...   \n",
       "3  Senior Associate Attorney - Elder Law / Trusts...   \n",
       "4  Looking for HVAC service tech with experience ...   \n",
       "\n",
       "                                        job_category  \\\n",
       "0  specialist / analyst / associate / senior / co...   \n",
       "1  specialist / analyst / associate / senior / co...   \n",
       "2     manager / project / senior / account / product   \n",
       "3  specialist / analyst / associate / senior / co...   \n",
       "4  technician / maintenance / service / field / care   \n",
       "\n",
       "                                          clean_text  \n",
       "0  leading real estate firm in new jersey is seek...  \n",
       "1  at aspen therapy and wellness we are committed...  \n",
       "2  the national exemplar is accepting application...  \n",
       "3  senior associate attorney elder law trusts and...  \n",
       "4  looking for hvac service tech with experience ...  "
      ]
     },
     "execution_count": 16,
     "metadata": {},
     "output_type": "execute_result"
    }
   ],
   "source": [
    "df.head()"
   ]
  },
  {
   "cell_type": "code",
   "execution_count": 17,
   "metadata": {
    "execution": {
     "iopub.execute_input": "2025-10-23T15:03:20.463806Z",
     "iopub.status.busy": "2025-10-23T15:03:20.463553Z",
     "iopub.status.idle": "2025-10-23T15:03:20.493408Z",
     "shell.execute_reply": "2025-10-23T15:03:20.492744Z",
     "shell.execute_reply.started": "2025-10-23T15:03:20.463780Z"
    },
    "trusted": true
   },
   "outputs": [],
   "source": [
    "le = LabelEncoder()\n",
    "df['label'] = le.fit_transform(df['job_category'])"
   ]
  },
  {
   "cell_type": "code",
   "execution_count": 18,
   "metadata": {
    "execution": {
     "iopub.execute_input": "2025-10-23T15:03:20.495364Z",
     "iopub.status.busy": "2025-10-23T15:03:20.494852Z",
     "iopub.status.idle": "2025-10-23T15:03:20.564504Z",
     "shell.execute_reply": "2025-10-23T15:03:20.563873Z",
     "shell.execute_reply.started": "2025-10-23T15:03:20.495346Z"
    },
    "trusted": true
   },
   "outputs": [],
   "source": [
    "X_train, X_test, y_train, y_test = train_test_split(\n",
    "    df['clean_text'],\n",
    "    df['label'],\n",
    "    test_size=0.2,\n",
    "    random_state=42,\n",
    "    stratify=df['label']\n",
    ")"
   ]
  },
  {
   "cell_type": "code",
   "execution_count": 19,
   "metadata": {
    "execution": {
     "iopub.execute_input": "2025-10-23T15:03:20.565359Z",
     "iopub.status.busy": "2025-10-23T15:03:20.565152Z",
     "iopub.status.idle": "2025-10-23T15:04:25.603422Z",
     "shell.execute_reply": "2025-10-23T15:04:25.602586Z",
     "shell.execute_reply.started": "2025-10-23T15:03:20.565343Z"
    },
    "trusted": true
   },
   "outputs": [],
   "source": [
    "max_words = 10000\n",
    "max_len = 200\n",
    "embedding_dim = 128\n",
    "\n",
    "tokenizer = Tokenizer(num_words=max_words, oov_token=\"<OOV>\")\n",
    "tokenizer.fit_on_texts(df[\"description\"])"
   ]
  },
  {
   "cell_type": "code",
   "execution_count": 20,
   "metadata": {
    "execution": {
     "iopub.execute_input": "2025-10-23T15:04:25.604507Z",
     "iopub.status.busy": "2025-10-23T15:04:25.604244Z",
     "iopub.status.idle": "2025-10-23T15:05:19.151858Z",
     "shell.execute_reply": "2025-10-23T15:05:19.151057Z",
     "shell.execute_reply.started": "2025-10-23T15:04:25.604486Z"
    },
    "trusted": true
   },
   "outputs": [],
   "source": [
    "X = tokenizer.texts_to_sequences(df[\"description\"])\n",
    "X = pad_sequences(X, maxlen=max_len, padding='post', truncating='post')\n"
   ]
  },
  {
   "cell_type": "code",
   "execution_count": 21,
   "metadata": {
    "execution": {
     "iopub.execute_input": "2025-10-23T15:05:19.153770Z",
     "iopub.status.busy": "2025-10-23T15:05:19.153076Z",
     "iopub.status.idle": "2025-10-23T15:05:19.175685Z",
     "shell.execute_reply": "2025-10-23T15:05:19.175038Z",
     "shell.execute_reply.started": "2025-10-23T15:05:19.153742Z"
    },
    "trusted": true
   },
   "outputs": [],
   "source": [
    "# Encode target labels\n",
    "label_encoder = LabelEncoder()\n",
    "y = label_encoder.fit_transform(df[\"job_category\"])"
   ]
  },
  {
   "cell_type": "code",
   "execution_count": 22,
   "metadata": {
    "execution": {
     "iopub.execute_input": "2025-10-23T15:05:19.176527Z",
     "iopub.status.busy": "2025-10-23T15:05:19.176293Z",
     "iopub.status.idle": "2025-10-23T15:05:19.225403Z",
     "shell.execute_reply": "2025-10-23T15:05:19.224606Z",
     "shell.execute_reply.started": "2025-10-23T15:05:19.176511Z"
    },
    "trusted": true
   },
   "outputs": [],
   "source": [
    "# Split dataset\n",
    "X_train, X_test, y_train, y_test = train_test_split(X, y, test_size=0.2, random_state=42)\n"
   ]
  },
  {
   "cell_type": "code",
   "execution_count": 23,
   "metadata": {
    "execution": {
     "iopub.execute_input": "2025-10-23T15:05:19.226427Z",
     "iopub.status.busy": "2025-10-23T15:05:19.226195Z",
     "iopub.status.idle": "2025-10-23T15:05:19.231090Z",
     "shell.execute_reply": "2025-10-23T15:05:19.230514Z",
     "shell.execute_reply.started": "2025-10-23T15:05:19.226403Z"
    },
    "trusted": true
   },
   "outputs": [
    {
     "data": {
      "text/plain": [
       "10"
      ]
     },
     "execution_count": 23,
     "metadata": {},
     "output_type": "execute_result"
    }
   ],
   "source": [
    "num_classes = len(label_encoder.classes_)\n",
    "num_classes"
   ]
  },
  {
   "cell_type": "code",
   "execution_count": 24,
   "metadata": {
    "execution": {
     "iopub.execute_input": "2025-10-23T15:05:19.233565Z",
     "iopub.status.busy": "2025-10-23T15:05:19.233279Z",
     "iopub.status.idle": "2025-10-23T15:05:21.265937Z",
     "shell.execute_reply": "2025-10-23T15:05:21.265209Z",
     "shell.execute_reply.started": "2025-10-23T15:05:19.233550Z"
    },
    "trusted": true
   },
   "outputs": [
    {
     "name": "stderr",
     "output_type": "stream",
     "text": [
      "/usr/local/lib/python3.11/dist-packages/keras/src/layers/core/embedding.py:90: UserWarning: Argument `input_length` is deprecated. Just remove it.\n",
      "  warnings.warn(\n",
      "I0000 00:00:1761231919.928740      37 gpu_device.cc:2022] Created device /job:localhost/replica:0/task:0/device:GPU:0 with 15513 MB memory:  -> device: 0, name: Tesla P100-PCIE-16GB, pci bus id: 0000:00:04.0, compute capability: 6.0\n"
     ]
    },
    {
     "data": {
      "text/html": [
       "<pre style=\"white-space:pre;overflow-x:auto;line-height:normal;font-family:Menlo,'DejaVu Sans Mono',consolas,'Courier New',monospace\"><span style=\"font-weight: bold\">Model: \"RNN_Model\"</span>\n",
       "</pre>\n"
      ],
      "text/plain": [
       "\u001b[1mModel: \"RNN_Model\"\u001b[0m\n"
      ]
     },
     "metadata": {},
     "output_type": "display_data"
    },
    {
     "data": {
      "text/html": [
       "<pre style=\"white-space:pre;overflow-x:auto;line-height:normal;font-family:Menlo,'DejaVu Sans Mono',consolas,'Courier New',monospace\">┏━━━━━━━━━━━━━━━━━━━━━━━━━━━━━━━━━┳━━━━━━━━━━━━━━━━━━━━━━━━┳━━━━━━━━━━━━━━━┓\n",
       "┃<span style=\"font-weight: bold\"> Layer (type)                    </span>┃<span style=\"font-weight: bold\"> Output Shape           </span>┃<span style=\"font-weight: bold\">       Param # </span>┃\n",
       "┡━━━━━━━━━━━━━━━━━━━━━━━━━━━━━━━━━╇━━━━━━━━━━━━━━━━━━━━━━━━╇━━━━━━━━━━━━━━━┩\n",
       "│ input_rnn (<span style=\"color: #0087ff; text-decoration-color: #0087ff\">InputLayer</span>)          │ (<span style=\"color: #00d7ff; text-decoration-color: #00d7ff\">None</span>, <span style=\"color: #00af00; text-decoration-color: #00af00\">200</span>)            │             <span style=\"color: #00af00; text-decoration-color: #00af00\">0</span> │\n",
       "├─────────────────────────────────┼────────────────────────┼───────────────┤\n",
       "│ embedding (<span style=\"color: #0087ff; text-decoration-color: #0087ff\">Embedding</span>)           │ (<span style=\"color: #00d7ff; text-decoration-color: #00d7ff\">None</span>, <span style=\"color: #00af00; text-decoration-color: #00af00\">200</span>, <span style=\"color: #00af00; text-decoration-color: #00af00\">128</span>)       │     <span style=\"color: #00af00; text-decoration-color: #00af00\">1,280,000</span> │\n",
       "├─────────────────────────────────┼────────────────────────┼───────────────┤\n",
       "│ simple_rnn (<span style=\"color: #0087ff; text-decoration-color: #0087ff\">SimpleRNN</span>)          │ (<span style=\"color: #00d7ff; text-decoration-color: #00d7ff\">None</span>, <span style=\"color: #00af00; text-decoration-color: #00af00\">128</span>)            │        <span style=\"color: #00af00; text-decoration-color: #00af00\">32,896</span> │\n",
       "├─────────────────────────────────┼────────────────────────┼───────────────┤\n",
       "│ dropout (<span style=\"color: #0087ff; text-decoration-color: #0087ff\">Dropout</span>)               │ (<span style=\"color: #00d7ff; text-decoration-color: #00d7ff\">None</span>, <span style=\"color: #00af00; text-decoration-color: #00af00\">128</span>)            │             <span style=\"color: #00af00; text-decoration-color: #00af00\">0</span> │\n",
       "├─────────────────────────────────┼────────────────────────┼───────────────┤\n",
       "│ dense (<span style=\"color: #0087ff; text-decoration-color: #0087ff\">Dense</span>)                   │ (<span style=\"color: #00d7ff; text-decoration-color: #00d7ff\">None</span>, <span style=\"color: #00af00; text-decoration-color: #00af00\">10</span>)             │         <span style=\"color: #00af00; text-decoration-color: #00af00\">1,290</span> │\n",
       "└─────────────────────────────────┴────────────────────────┴───────────────┘\n",
       "</pre>\n"
      ],
      "text/plain": [
       "┏━━━━━━━━━━━━━━━━━━━━━━━━━━━━━━━━━┳━━━━━━━━━━━━━━━━━━━━━━━━┳━━━━━━━━━━━━━━━┓\n",
       "┃\u001b[1m \u001b[0m\u001b[1mLayer (type)                   \u001b[0m\u001b[1m \u001b[0m┃\u001b[1m \u001b[0m\u001b[1mOutput Shape          \u001b[0m\u001b[1m \u001b[0m┃\u001b[1m \u001b[0m\u001b[1m      Param #\u001b[0m\u001b[1m \u001b[0m┃\n",
       "┡━━━━━━━━━━━━━━━━━━━━━━━━━━━━━━━━━╇━━━━━━━━━━━━━━━━━━━━━━━━╇━━━━━━━━━━━━━━━┩\n",
       "│ input_rnn (\u001b[38;5;33mInputLayer\u001b[0m)          │ (\u001b[38;5;45mNone\u001b[0m, \u001b[38;5;34m200\u001b[0m)            │             \u001b[38;5;34m0\u001b[0m │\n",
       "├─────────────────────────────────┼────────────────────────┼───────────────┤\n",
       "│ embedding (\u001b[38;5;33mEmbedding\u001b[0m)           │ (\u001b[38;5;45mNone\u001b[0m, \u001b[38;5;34m200\u001b[0m, \u001b[38;5;34m128\u001b[0m)       │     \u001b[38;5;34m1,280,000\u001b[0m │\n",
       "├─────────────────────────────────┼────────────────────────┼───────────────┤\n",
       "│ simple_rnn (\u001b[38;5;33mSimpleRNN\u001b[0m)          │ (\u001b[38;5;45mNone\u001b[0m, \u001b[38;5;34m128\u001b[0m)            │        \u001b[38;5;34m32,896\u001b[0m │\n",
       "├─────────────────────────────────┼────────────────────────┼───────────────┤\n",
       "│ dropout (\u001b[38;5;33mDropout\u001b[0m)               │ (\u001b[38;5;45mNone\u001b[0m, \u001b[38;5;34m128\u001b[0m)            │             \u001b[38;5;34m0\u001b[0m │\n",
       "├─────────────────────────────────┼────────────────────────┼───────────────┤\n",
       "│ dense (\u001b[38;5;33mDense\u001b[0m)                   │ (\u001b[38;5;45mNone\u001b[0m, \u001b[38;5;34m10\u001b[0m)             │         \u001b[38;5;34m1,290\u001b[0m │\n",
       "└─────────────────────────────────┴────────────────────────┴───────────────┘\n"
      ]
     },
     "metadata": {},
     "output_type": "display_data"
    },
    {
     "data": {
      "text/html": [
       "<pre style=\"white-space:pre;overflow-x:auto;line-height:normal;font-family:Menlo,'DejaVu Sans Mono',consolas,'Courier New',monospace\"><span style=\"font-weight: bold\"> Total params: </span><span style=\"color: #00af00; text-decoration-color: #00af00\">1,314,186</span> (5.01 MB)\n",
       "</pre>\n"
      ],
      "text/plain": [
       "\u001b[1m Total params: \u001b[0m\u001b[38;5;34m1,314,186\u001b[0m (5.01 MB)\n"
      ]
     },
     "metadata": {},
     "output_type": "display_data"
    },
    {
     "data": {
      "text/html": [
       "<pre style=\"white-space:pre;overflow-x:auto;line-height:normal;font-family:Menlo,'DejaVu Sans Mono',consolas,'Courier New',monospace\"><span style=\"font-weight: bold\"> Trainable params: </span><span style=\"color: #00af00; text-decoration-color: #00af00\">1,314,186</span> (5.01 MB)\n",
       "</pre>\n"
      ],
      "text/plain": [
       "\u001b[1m Trainable params: \u001b[0m\u001b[38;5;34m1,314,186\u001b[0m (5.01 MB)\n"
      ]
     },
     "metadata": {},
     "output_type": "display_data"
    },
    {
     "data": {
      "text/html": [
       "<pre style=\"white-space:pre;overflow-x:auto;line-height:normal;font-family:Menlo,'DejaVu Sans Mono',consolas,'Courier New',monospace\"><span style=\"font-weight: bold\"> Non-trainable params: </span><span style=\"color: #00af00; text-decoration-color: #00af00\">0</span> (0.00 B)\n",
       "</pre>\n"
      ],
      "text/plain": [
       "\u001b[1m Non-trainable params: \u001b[0m\u001b[38;5;34m0\u001b[0m (0.00 B)\n"
      ]
     },
     "metadata": {},
     "output_type": "display_data"
    }
   ],
   "source": [
    "#RNN Model\n",
    "inputs_rnn = Input(shape=(max_len,), name=\"input_rnn\")\n",
    "x_rnn = Embedding(max_words, embedding_dim, input_length=max_len)(inputs_rnn)\n",
    "hidden_rnn = SimpleRNN(128, activation='tanh')(x_rnn)\n",
    "hidden_rnn = Dropout(0.3)(hidden_rnn)\n",
    "outputs_rnn = Dense(num_classes, activation='softmax')(hidden_rnn)\n",
    "\n",
    "model_rnn = Model(inputs=inputs_rnn, outputs=outputs_rnn, name=\"RNN_Model\")\n",
    "\n",
    "model_rnn.summary()"
   ]
  },
  {
   "cell_type": "code",
   "execution_count": 25,
   "metadata": {
    "execution": {
     "iopub.execute_input": "2025-10-23T15:05:21.266971Z",
     "iopub.status.busy": "2025-10-23T15:05:21.266737Z",
     "iopub.status.idle": "2025-10-23T15:05:21.279151Z",
     "shell.execute_reply": "2025-10-23T15:05:21.278421Z",
     "shell.execute_reply.started": "2025-10-23T15:05:21.266939Z"
    },
    "trusted": true
   },
   "outputs": [],
   "source": [
    "optimizer = Nadam(learning_rate=1e-3)\n",
    "model_rnn.compile(loss='sparse_categorical_crossentropy', optimizer=optimizer, metrics=['accuracy'])\n"
   ]
  },
  {
   "cell_type": "code",
   "execution_count": 26,
   "metadata": {
    "execution": {
     "iopub.execute_input": "2025-10-23T15:05:21.280272Z",
     "iopub.status.busy": "2025-10-23T15:05:21.279984Z",
     "iopub.status.idle": "2025-10-23T15:09:26.306350Z",
     "shell.execute_reply": "2025-10-23T15:09:26.305732Z",
     "shell.execute_reply.started": "2025-10-23T15:05:21.280256Z"
    },
    "trusted": true
   },
   "outputs": [
    {
     "name": "stdout",
     "output_type": "stream",
     "text": [
      "Epoch 1/10\n"
     ]
    },
    {
     "name": "stderr",
     "output_type": "stream",
     "text": [
      "WARNING: All log messages before absl::InitializeLog() is called are written to STDERR\n",
      "I0000 00:00:1761231924.177596     119 service.cc:148] XLA service 0x7ba8300550d0 initialized for platform CUDA (this does not guarantee that XLA will be used). Devices:\n",
      "I0000 00:00:1761231924.178061     119 service.cc:156]   StreamExecutor device (0): Tesla P100-PCIE-16GB, Compute Capability 6.0\n",
      "I0000 00:00:1761231924.437608     119 cuda_dnn.cc:529] Loaded cuDNN version 90300\n"
     ]
    },
    {
     "name": "stdout",
     "output_type": "stream",
     "text": [
      "\u001b[1m  10/1239\u001b[0m \u001b[37m━━━━━━━━━━━━━━━━━━━━\u001b[0m \u001b[1m22s\u001b[0m 18ms/step - accuracy: 0.2912 - loss: 2.1167"
     ]
    },
    {
     "name": "stderr",
     "output_type": "stream",
     "text": [
      "I0000 00:00:1761231925.784172     119 device_compiler.h:188] Compiled cluster using XLA!  This line is logged at most once for the lifetime of the process.\n"
     ]
    },
    {
     "name": "stdout",
     "output_type": "stream",
     "text": [
      "\u001b[1m1239/1239\u001b[0m \u001b[32m━━━━━━━━━━━━━━━━━━━━\u001b[0m\u001b[37m\u001b[0m \u001b[1m30s\u001b[0m 21ms/step - accuracy: 0.5733 - loss: 1.5458 - val_accuracy: 0.6182 - val_loss: 1.2783\n",
      "Epoch 2/10\n",
      "\u001b[1m1239/1239\u001b[0m \u001b[32m━━━━━━━━━━━━━━━━━━━━\u001b[0m\u001b[37m\u001b[0m \u001b[1m24s\u001b[0m 19ms/step - accuracy: 0.6472 - loss: 1.1423 - val_accuracy: 0.6345 - val_loss: 1.1787\n",
      "Epoch 3/10\n",
      "\u001b[1m1239/1239\u001b[0m \u001b[32m━━━━━━━━━━━━━━━━━━━━\u001b[0m\u001b[37m\u001b[0m \u001b[1m24s\u001b[0m 19ms/step - accuracy: 0.7325 - loss: 0.8561 - val_accuracy: 0.6308 - val_loss: 1.2677\n",
      "Epoch 4/10\n",
      "\u001b[1m1239/1239\u001b[0m \u001b[32m━━━━━━━━━━━━━━━━━━━━\u001b[0m\u001b[37m\u001b[0m \u001b[1m24s\u001b[0m 19ms/step - accuracy: 0.7646 - loss: 0.7740 - val_accuracy: 0.6040 - val_loss: 1.4172\n",
      "Epoch 5/10\n",
      "\u001b[1m1239/1239\u001b[0m \u001b[32m━━━━━━━━━━━━━━━━━━━━\u001b[0m\u001b[37m\u001b[0m \u001b[1m24s\u001b[0m 19ms/step - accuracy: 0.8323 - loss: 0.5637 - val_accuracy: 0.6023 - val_loss: 1.4623\n",
      "Epoch 6/10\n",
      "\u001b[1m1239/1239\u001b[0m \u001b[32m━━━━━━━━━━━━━━━━━━━━\u001b[0m\u001b[37m\u001b[0m \u001b[1m24s\u001b[0m 19ms/step - accuracy: 0.8295 - loss: 0.5731 - val_accuracy: 0.5845 - val_loss: 1.5739\n",
      "Epoch 7/10\n",
      "\u001b[1m1239/1239\u001b[0m \u001b[32m━━━━━━━━━━━━━━━━━━━━\u001b[0m\u001b[37m\u001b[0m \u001b[1m24s\u001b[0m 19ms/step - accuracy: 0.8585 - loss: 0.4836 - val_accuracy: 0.5677 - val_loss: 1.7808\n",
      "Epoch 8/10\n",
      "\u001b[1m1239/1239\u001b[0m \u001b[32m━━━━━━━━━━━━━━━━━━━━\u001b[0m\u001b[37m\u001b[0m \u001b[1m24s\u001b[0m 19ms/step - accuracy: 0.8813 - loss: 0.4150 - val_accuracy: 0.5969 - val_loss: 1.7657\n",
      "Epoch 9/10\n",
      "\u001b[1m1239/1239\u001b[0m \u001b[32m━━━━━━━━━━━━━━━━━━━━\u001b[0m\u001b[37m\u001b[0m \u001b[1m24s\u001b[0m 19ms/step - accuracy: 0.8821 - loss: 0.4070 - val_accuracy: 0.5609 - val_loss: 1.9606\n",
      "Epoch 10/10\n",
      "\u001b[1m1239/1239\u001b[0m \u001b[32m━━━━━━━━━━━━━━━━━━━━\u001b[0m\u001b[37m\u001b[0m \u001b[1m24s\u001b[0m 19ms/step - accuracy: 0.8819 - loss: 0.4080 - val_accuracy: 0.5621 - val_loss: 1.9741\n"
     ]
    }
   ],
   "source": [
    "history_rnn = model_rnn.fit(X_train, y_train,validation_split=0.2,epochs=10,batch_size=64,verbose=1)"
   ]
  },
  {
   "cell_type": "code",
   "execution_count": 27,
   "metadata": {
    "execution": {
     "iopub.execute_input": "2025-10-23T15:09:26.307835Z",
     "iopub.status.busy": "2025-10-23T15:09:26.307614Z",
     "iopub.status.idle": "2025-10-23T15:09:26.365882Z",
     "shell.execute_reply": "2025-10-23T15:09:26.365323Z",
     "shell.execute_reply.started": "2025-10-23T15:09:26.307818Z"
    },
    "trusted": true
   },
   "outputs": [
    {
     "data": {
      "text/html": [
       "<pre style=\"white-space:pre;overflow-x:auto;line-height:normal;font-family:Menlo,'DejaVu Sans Mono',consolas,'Courier New',monospace\"><span style=\"font-weight: bold\">Model: \"LSTM_Model\"</span>\n",
       "</pre>\n"
      ],
      "text/plain": [
       "\u001b[1mModel: \"LSTM_Model\"\u001b[0m\n"
      ]
     },
     "metadata": {},
     "output_type": "display_data"
    },
    {
     "data": {
      "text/html": [
       "<pre style=\"white-space:pre;overflow-x:auto;line-height:normal;font-family:Menlo,'DejaVu Sans Mono',consolas,'Courier New',monospace\">┏━━━━━━━━━━━━━━━━━━━━━━━━━━━━━━━━━┳━━━━━━━━━━━━━━━━━━━━━━━━┳━━━━━━━━━━━━━━━┓\n",
       "┃<span style=\"font-weight: bold\"> Layer (type)                    </span>┃<span style=\"font-weight: bold\"> Output Shape           </span>┃<span style=\"font-weight: bold\">       Param # </span>┃\n",
       "┡━━━━━━━━━━━━━━━━━━━━━━━━━━━━━━━━━╇━━━━━━━━━━━━━━━━━━━━━━━━╇━━━━━━━━━━━━━━━┩\n",
       "│ input_lstm (<span style=\"color: #0087ff; text-decoration-color: #0087ff\">InputLayer</span>)         │ (<span style=\"color: #00d7ff; text-decoration-color: #00d7ff\">None</span>, <span style=\"color: #00af00; text-decoration-color: #00af00\">200</span>)            │             <span style=\"color: #00af00; text-decoration-color: #00af00\">0</span> │\n",
       "├─────────────────────────────────┼────────────────────────┼───────────────┤\n",
       "│ embedding_1 (<span style=\"color: #0087ff; text-decoration-color: #0087ff\">Embedding</span>)         │ (<span style=\"color: #00d7ff; text-decoration-color: #00d7ff\">None</span>, <span style=\"color: #00af00; text-decoration-color: #00af00\">200</span>, <span style=\"color: #00af00; text-decoration-color: #00af00\">128</span>)       │     <span style=\"color: #00af00; text-decoration-color: #00af00\">1,280,000</span> │\n",
       "├─────────────────────────────────┼────────────────────────┼───────────────┤\n",
       "│ lstm (<span style=\"color: #0087ff; text-decoration-color: #0087ff\">LSTM</span>)                     │ (<span style=\"color: #00d7ff; text-decoration-color: #00d7ff\">None</span>, <span style=\"color: #00af00; text-decoration-color: #00af00\">128</span>)            │       <span style=\"color: #00af00; text-decoration-color: #00af00\">131,584</span> │\n",
       "├─────────────────────────────────┼────────────────────────┼───────────────┤\n",
       "│ dense_1 (<span style=\"color: #0087ff; text-decoration-color: #0087ff\">Dense</span>)                 │ (<span style=\"color: #00d7ff; text-decoration-color: #00d7ff\">None</span>, <span style=\"color: #00af00; text-decoration-color: #00af00\">10</span>)             │         <span style=\"color: #00af00; text-decoration-color: #00af00\">1,290</span> │\n",
       "└─────────────────────────────────┴────────────────────────┴───────────────┘\n",
       "</pre>\n"
      ],
      "text/plain": [
       "┏━━━━━━━━━━━━━━━━━━━━━━━━━━━━━━━━━┳━━━━━━━━━━━━━━━━━━━━━━━━┳━━━━━━━━━━━━━━━┓\n",
       "┃\u001b[1m \u001b[0m\u001b[1mLayer (type)                   \u001b[0m\u001b[1m \u001b[0m┃\u001b[1m \u001b[0m\u001b[1mOutput Shape          \u001b[0m\u001b[1m \u001b[0m┃\u001b[1m \u001b[0m\u001b[1m      Param #\u001b[0m\u001b[1m \u001b[0m┃\n",
       "┡━━━━━━━━━━━━━━━━━━━━━━━━━━━━━━━━━╇━━━━━━━━━━━━━━━━━━━━━━━━╇━━━━━━━━━━━━━━━┩\n",
       "│ input_lstm (\u001b[38;5;33mInputLayer\u001b[0m)         │ (\u001b[38;5;45mNone\u001b[0m, \u001b[38;5;34m200\u001b[0m)            │             \u001b[38;5;34m0\u001b[0m │\n",
       "├─────────────────────────────────┼────────────────────────┼───────────────┤\n",
       "│ embedding_1 (\u001b[38;5;33mEmbedding\u001b[0m)         │ (\u001b[38;5;45mNone\u001b[0m, \u001b[38;5;34m200\u001b[0m, \u001b[38;5;34m128\u001b[0m)       │     \u001b[38;5;34m1,280,000\u001b[0m │\n",
       "├─────────────────────────────────┼────────────────────────┼───────────────┤\n",
       "│ lstm (\u001b[38;5;33mLSTM\u001b[0m)                     │ (\u001b[38;5;45mNone\u001b[0m, \u001b[38;5;34m128\u001b[0m)            │       \u001b[38;5;34m131,584\u001b[0m │\n",
       "├─────────────────────────────────┼────────────────────────┼───────────────┤\n",
       "│ dense_1 (\u001b[38;5;33mDense\u001b[0m)                 │ (\u001b[38;5;45mNone\u001b[0m, \u001b[38;5;34m10\u001b[0m)             │         \u001b[38;5;34m1,290\u001b[0m │\n",
       "└─────────────────────────────────┴────────────────────────┴───────────────┘\n"
      ]
     },
     "metadata": {},
     "output_type": "display_data"
    },
    {
     "data": {
      "text/html": [
       "<pre style=\"white-space:pre;overflow-x:auto;line-height:normal;font-family:Menlo,'DejaVu Sans Mono',consolas,'Courier New',monospace\"><span style=\"font-weight: bold\"> Total params: </span><span style=\"color: #00af00; text-decoration-color: #00af00\">1,412,874</span> (5.39 MB)\n",
       "</pre>\n"
      ],
      "text/plain": [
       "\u001b[1m Total params: \u001b[0m\u001b[38;5;34m1,412,874\u001b[0m (5.39 MB)\n"
      ]
     },
     "metadata": {},
     "output_type": "display_data"
    },
    {
     "data": {
      "text/html": [
       "<pre style=\"white-space:pre;overflow-x:auto;line-height:normal;font-family:Menlo,'DejaVu Sans Mono',consolas,'Courier New',monospace\"><span style=\"font-weight: bold\"> Trainable params: </span><span style=\"color: #00af00; text-decoration-color: #00af00\">1,412,874</span> (5.39 MB)\n",
       "</pre>\n"
      ],
      "text/plain": [
       "\u001b[1m Trainable params: \u001b[0m\u001b[38;5;34m1,412,874\u001b[0m (5.39 MB)\n"
      ]
     },
     "metadata": {},
     "output_type": "display_data"
    },
    {
     "data": {
      "text/html": [
       "<pre style=\"white-space:pre;overflow-x:auto;line-height:normal;font-family:Menlo,'DejaVu Sans Mono',consolas,'Courier New',monospace\"><span style=\"font-weight: bold\"> Non-trainable params: </span><span style=\"color: #00af00; text-decoration-color: #00af00\">0</span> (0.00 B)\n",
       "</pre>\n"
      ],
      "text/plain": [
       "\u001b[1m Non-trainable params: \u001b[0m\u001b[38;5;34m0\u001b[0m (0.00 B)\n"
      ]
     },
     "metadata": {},
     "output_type": "display_data"
    }
   ],
   "source": [
    "#LSTM Model\n",
    "inputs_lstm = Input(shape=(max_len,), name=\"input_lstm\")\n",
    "x_lstm = Embedding(max_words, embedding_dim, input_length=max_len)(inputs_lstm)\n",
    "hidden_lstm = LSTM(128, activation='tanh', kernel_initializer='glorot_uniform', dropout=0.5,recurrent_dropout=0.3)(x_lstm)\n",
    "outputs_lstm = Dense(num_classes, activation='softmax',kernel_initializer='glorot_uniform')(hidden_lstm)\n",
    "model_lstm = Model(inputs=inputs_lstm, outputs=outputs_lstm, name=\"LSTM_Model\")\n",
    "model_lstm.summary()"
   ]
  },
  {
   "cell_type": "code",
   "execution_count": 28,
   "metadata": {
    "execution": {
     "iopub.execute_input": "2025-10-23T15:09:26.366906Z",
     "iopub.status.busy": "2025-10-23T15:09:26.366644Z",
     "iopub.status.idle": "2025-10-23T15:09:26.374458Z",
     "shell.execute_reply": "2025-10-23T15:09:26.373811Z",
     "shell.execute_reply.started": "2025-10-23T15:09:26.366885Z"
    },
    "trusted": true
   },
   "outputs": [],
   "source": [
    "optimizer = Nadam(learning_rate=1e-3)\n",
    "model_lstm.compile(loss='sparse_categorical_crossentropy', optimizer=optimizer, metrics=['accuracy'])"
   ]
  },
  {
   "cell_type": "code",
   "execution_count": 29,
   "metadata": {
    "execution": {
     "iopub.execute_input": "2025-10-23T15:09:26.375368Z",
     "iopub.status.busy": "2025-10-23T15:09:26.375174Z",
     "iopub.status.idle": "2025-10-23T16:58:14.830985Z",
     "shell.execute_reply": "2025-10-23T16:58:14.830425Z",
     "shell.execute_reply.started": "2025-10-23T15:09:26.375354Z"
    },
    "trusted": true
   },
   "outputs": [
    {
     "name": "stdout",
     "output_type": "stream",
     "text": [
      "Epoch 1/10\n",
      "\u001b[1m1239/1239\u001b[0m \u001b[32m━━━━━━━━━━━━━━━━━━━━\u001b[0m\u001b[37m\u001b[0m \u001b[1m662s\u001b[0m 529ms/step - accuracy: 0.5697 - loss: 1.5207 - val_accuracy: 0.6255 - val_loss: 1.1040\n",
      "Epoch 2/10\n",
      "\u001b[1m1239/1239\u001b[0m \u001b[32m━━━━━━━━━━━━━━━━━━━━\u001b[0m\u001b[37m\u001b[0m \u001b[1m651s\u001b[0m 526ms/step - accuracy: 0.6350 - loss: 1.0964 - val_accuracy: 0.6834 - val_loss: 0.9547\n",
      "Epoch 3/10\n",
      "\u001b[1m1239/1239\u001b[0m \u001b[32m━━━━━━━━━━━━━━━━━━━━\u001b[0m\u001b[37m\u001b[0m \u001b[1m648s\u001b[0m 523ms/step - accuracy: 0.6954 - loss: 0.9031 - val_accuracy: 0.7712 - val_loss: 0.6927\n",
      "Epoch 4/10\n",
      "\u001b[1m1239/1239\u001b[0m \u001b[32m━━━━━━━━━━━━━━━━━━━━\u001b[0m\u001b[37m\u001b[0m \u001b[1m649s\u001b[0m 524ms/step - accuracy: 0.7829 - loss: 0.6527 - val_accuracy: 0.8101 - val_loss: 0.5749\n",
      "Epoch 5/10\n",
      "\u001b[1m1239/1239\u001b[0m \u001b[32m━━━━━━━━━━━━━━━━━━━━\u001b[0m\u001b[37m\u001b[0m \u001b[1m650s\u001b[0m 525ms/step - accuracy: 0.8246 - loss: 0.5321 - val_accuracy: 0.8260 - val_loss: 0.5338\n",
      "Epoch 6/10\n",
      "\u001b[1m1239/1239\u001b[0m \u001b[32m━━━━━━━━━━━━━━━━━━━━\u001b[0m\u001b[37m\u001b[0m \u001b[1m650s\u001b[0m 524ms/step - accuracy: 0.8494 - loss: 0.4567 - val_accuracy: 0.8383 - val_loss: 0.5085\n",
      "Epoch 7/10\n",
      "\u001b[1m1239/1239\u001b[0m \u001b[32m━━━━━━━━━━━━━━━━━━━━\u001b[0m\u001b[37m\u001b[0m \u001b[1m646s\u001b[0m 522ms/step - accuracy: 0.8715 - loss: 0.3952 - val_accuracy: 0.8431 - val_loss: 0.4945\n",
      "Epoch 8/10\n",
      "\u001b[1m1239/1239\u001b[0m \u001b[32m━━━━━━━━━━━━━━━━━━━━\u001b[0m\u001b[37m\u001b[0m \u001b[1m652s\u001b[0m 526ms/step - accuracy: 0.8846 - loss: 0.3410 - val_accuracy: 0.8451 - val_loss: 0.5057\n",
      "Epoch 9/10\n",
      "\u001b[1m1239/1239\u001b[0m \u001b[32m━━━━━━━━━━━━━━━━━━━━\u001b[0m\u001b[37m\u001b[0m \u001b[1m659s\u001b[0m 532ms/step - accuracy: 0.8961 - loss: 0.3104 - val_accuracy: 0.8495 - val_loss: 0.5110\n",
      "Epoch 10/10\n",
      "\u001b[1m1239/1239\u001b[0m \u001b[32m━━━━━━━━━━━━━━━━━━━━\u001b[0m\u001b[37m\u001b[0m \u001b[1m661s\u001b[0m 534ms/step - accuracy: 0.9052 - loss: 0.2806 - val_accuracy: 0.8474 - val_loss: 0.5273\n"
     ]
    }
   ],
   "source": [
    "history_lstm = model_lstm.fit(\n",
    "    X_train, y_train,\n",
    "    validation_split=0.2,\n",
    "    epochs=10,\n",
    "    batch_size=64,\n",
    "    verbose=1\n",
    ")"
   ]
  },
  {
   "cell_type": "code",
   "execution_count": 31,
   "metadata": {
    "execution": {
     "iopub.execute_input": "2025-10-23T17:06:43.607120Z",
     "iopub.status.busy": "2025-10-23T17:06:43.606841Z",
     "iopub.status.idle": "2025-10-23T17:06:43.679687Z",
     "shell.execute_reply": "2025-10-23T17:06:43.679108Z",
     "shell.execute_reply.started": "2025-10-23T17:06:43.607099Z"
    },
    "trusted": true
   },
   "outputs": [
    {
     "data": {
      "text/html": [
       "<pre style=\"white-space:pre;overflow-x:auto;line-height:normal;font-family:Menlo,'DejaVu Sans Mono',consolas,'Courier New',monospace\"><span style=\"font-weight: bold\">Model: \"Bidirectional_LSTM_Model\"</span>\n",
       "</pre>\n"
      ],
      "text/plain": [
       "\u001b[1mModel: \"Bidirectional_LSTM_Model\"\u001b[0m\n"
      ]
     },
     "metadata": {},
     "output_type": "display_data"
    },
    {
     "data": {
      "text/html": [
       "<pre style=\"white-space:pre;overflow-x:auto;line-height:normal;font-family:Menlo,'DejaVu Sans Mono',consolas,'Courier New',monospace\">┏━━━━━━━━━━━━━━━━━━━━━━━━━━━━━━━━━┳━━━━━━━━━━━━━━━━━━━━━━━━┳━━━━━━━━━━━━━━━┓\n",
       "┃<span style=\"font-weight: bold\"> Layer (type)                    </span>┃<span style=\"font-weight: bold\"> Output Shape           </span>┃<span style=\"font-weight: bold\">       Param # </span>┃\n",
       "┡━━━━━━━━━━━━━━━━━━━━━━━━━━━━━━━━━╇━━━━━━━━━━━━━━━━━━━━━━━━╇━━━━━━━━━━━━━━━┩\n",
       "│ input_bilstm (<span style=\"color: #0087ff; text-decoration-color: #0087ff\">InputLayer</span>)       │ (<span style=\"color: #00d7ff; text-decoration-color: #00d7ff\">None</span>, <span style=\"color: #00af00; text-decoration-color: #00af00\">200</span>)            │             <span style=\"color: #00af00; text-decoration-color: #00af00\">0</span> │\n",
       "├─────────────────────────────────┼────────────────────────┼───────────────┤\n",
       "│ embedding_3 (<span style=\"color: #0087ff; text-decoration-color: #0087ff\">Embedding</span>)         │ (<span style=\"color: #00d7ff; text-decoration-color: #00d7ff\">None</span>, <span style=\"color: #00af00; text-decoration-color: #00af00\">200</span>, <span style=\"color: #00af00; text-decoration-color: #00af00\">128</span>)       │     <span style=\"color: #00af00; text-decoration-color: #00af00\">1,280,000</span> │\n",
       "├─────────────────────────────────┼────────────────────────┼───────────────┤\n",
       "│ bidirectional (<span style=\"color: #0087ff; text-decoration-color: #0087ff\">Bidirectional</span>)   │ (<span style=\"color: #00d7ff; text-decoration-color: #00d7ff\">None</span>, <span style=\"color: #00af00; text-decoration-color: #00af00\">256</span>)            │       <span style=\"color: #00af00; text-decoration-color: #00af00\">263,168</span> │\n",
       "├─────────────────────────────────┼────────────────────────┼───────────────┤\n",
       "│ dropout_1 (<span style=\"color: #0087ff; text-decoration-color: #0087ff\">Dropout</span>)             │ (<span style=\"color: #00d7ff; text-decoration-color: #00d7ff\">None</span>, <span style=\"color: #00af00; text-decoration-color: #00af00\">256</span>)            │             <span style=\"color: #00af00; text-decoration-color: #00af00\">0</span> │\n",
       "├─────────────────────────────────┼────────────────────────┼───────────────┤\n",
       "│ dense_2 (<span style=\"color: #0087ff; text-decoration-color: #0087ff\">Dense</span>)                 │ (<span style=\"color: #00d7ff; text-decoration-color: #00d7ff\">None</span>, <span style=\"color: #00af00; text-decoration-color: #00af00\">10</span>)             │         <span style=\"color: #00af00; text-decoration-color: #00af00\">2,570</span> │\n",
       "└─────────────────────────────────┴────────────────────────┴───────────────┘\n",
       "</pre>\n"
      ],
      "text/plain": [
       "┏━━━━━━━━━━━━━━━━━━━━━━━━━━━━━━━━━┳━━━━━━━━━━━━━━━━━━━━━━━━┳━━━━━━━━━━━━━━━┓\n",
       "┃\u001b[1m \u001b[0m\u001b[1mLayer (type)                   \u001b[0m\u001b[1m \u001b[0m┃\u001b[1m \u001b[0m\u001b[1mOutput Shape          \u001b[0m\u001b[1m \u001b[0m┃\u001b[1m \u001b[0m\u001b[1m      Param #\u001b[0m\u001b[1m \u001b[0m┃\n",
       "┡━━━━━━━━━━━━━━━━━━━━━━━━━━━━━━━━━╇━━━━━━━━━━━━━━━━━━━━━━━━╇━━━━━━━━━━━━━━━┩\n",
       "│ input_bilstm (\u001b[38;5;33mInputLayer\u001b[0m)       │ (\u001b[38;5;45mNone\u001b[0m, \u001b[38;5;34m200\u001b[0m)            │             \u001b[38;5;34m0\u001b[0m │\n",
       "├─────────────────────────────────┼────────────────────────┼───────────────┤\n",
       "│ embedding_3 (\u001b[38;5;33mEmbedding\u001b[0m)         │ (\u001b[38;5;45mNone\u001b[0m, \u001b[38;5;34m200\u001b[0m, \u001b[38;5;34m128\u001b[0m)       │     \u001b[38;5;34m1,280,000\u001b[0m │\n",
       "├─────────────────────────────────┼────────────────────────┼───────────────┤\n",
       "│ bidirectional (\u001b[38;5;33mBidirectional\u001b[0m)   │ (\u001b[38;5;45mNone\u001b[0m, \u001b[38;5;34m256\u001b[0m)            │       \u001b[38;5;34m263,168\u001b[0m │\n",
       "├─────────────────────────────────┼────────────────────────┼───────────────┤\n",
       "│ dropout_1 (\u001b[38;5;33mDropout\u001b[0m)             │ (\u001b[38;5;45mNone\u001b[0m, \u001b[38;5;34m256\u001b[0m)            │             \u001b[38;5;34m0\u001b[0m │\n",
       "├─────────────────────────────────┼────────────────────────┼───────────────┤\n",
       "│ dense_2 (\u001b[38;5;33mDense\u001b[0m)                 │ (\u001b[38;5;45mNone\u001b[0m, \u001b[38;5;34m10\u001b[0m)             │         \u001b[38;5;34m2,570\u001b[0m │\n",
       "└─────────────────────────────────┴────────────────────────┴───────────────┘\n"
      ]
     },
     "metadata": {},
     "output_type": "display_data"
    },
    {
     "data": {
      "text/html": [
       "<pre style=\"white-space:pre;overflow-x:auto;line-height:normal;font-family:Menlo,'DejaVu Sans Mono',consolas,'Courier New',monospace\"><span style=\"font-weight: bold\"> Total params: </span><span style=\"color: #00af00; text-decoration-color: #00af00\">1,545,738</span> (5.90 MB)\n",
       "</pre>\n"
      ],
      "text/plain": [
       "\u001b[1m Total params: \u001b[0m\u001b[38;5;34m1,545,738\u001b[0m (5.90 MB)\n"
      ]
     },
     "metadata": {},
     "output_type": "display_data"
    },
    {
     "data": {
      "text/html": [
       "<pre style=\"white-space:pre;overflow-x:auto;line-height:normal;font-family:Menlo,'DejaVu Sans Mono',consolas,'Courier New',monospace\"><span style=\"font-weight: bold\"> Trainable params: </span><span style=\"color: #00af00; text-decoration-color: #00af00\">1,545,738</span> (5.90 MB)\n",
       "</pre>\n"
      ],
      "text/plain": [
       "\u001b[1m Trainable params: \u001b[0m\u001b[38;5;34m1,545,738\u001b[0m (5.90 MB)\n"
      ]
     },
     "metadata": {},
     "output_type": "display_data"
    },
    {
     "data": {
      "text/html": [
       "<pre style=\"white-space:pre;overflow-x:auto;line-height:normal;font-family:Menlo,'DejaVu Sans Mono',consolas,'Courier New',monospace\"><span style=\"font-weight: bold\"> Non-trainable params: </span><span style=\"color: #00af00; text-decoration-color: #00af00\">0</span> (0.00 B)\n",
       "</pre>\n"
      ],
      "text/plain": [
       "\u001b[1m Non-trainable params: \u001b[0m\u001b[38;5;34m0\u001b[0m (0.00 B)\n"
      ]
     },
     "metadata": {},
     "output_type": "display_data"
    }
   ],
   "source": [
    "#Bidirectional LSTM Model\n",
    "from tensorflow.keras.layers import Bidirectional\n",
    "inputs_bilstm = Input(shape=(max_len,), name=\"input_bilstm\")\n",
    "x_bilstm = Embedding(max_words, embedding_dim, input_length=max_len)(inputs_bilstm)\n",
    "hidden_bilstm = Bidirectional(LSTM(128, activation='tanh', kernel_initializer='glorot_uniform', dropout=0.5,recurrent_dropout=0.3))(x_bilstm)\n",
    "hidden_bilstm = Dropout(0.5)(hidden_bilstm)\n",
    "outputs_bilstm = Dense(num_classes, activation='softmax',kernel_initializer='glorot_uniform')(hidden_bilstm)\n",
    "model_bilstm = Model(inputs=inputs_bilstm, outputs=outputs_bilstm, name=\"Bidirectional_LSTM_Model\")\n",
    "model_bilstm.summary()"
   ]
  },
  {
   "cell_type": "code",
   "execution_count": 32,
   "metadata": {
    "execution": {
     "iopub.execute_input": "2025-10-23T17:06:51.432903Z",
     "iopub.status.busy": "2025-10-23T17:06:51.432310Z",
     "iopub.status.idle": "2025-10-23T17:06:51.440808Z",
     "shell.execute_reply": "2025-10-23T17:06:51.440233Z",
     "shell.execute_reply.started": "2025-10-23T17:06:51.432883Z"
    },
    "trusted": true
   },
   "outputs": [],
   "source": [
    "optimizer = Nadam(learning_rate=1e-3)\n",
    "model_bilstm.compile(loss='sparse_categorical_crossentropy',optimizer=optimizer, metrics=['accuracy'])"
   ]
  },
  {
   "cell_type": "code",
   "execution_count": 33,
   "metadata": {
    "execution": {
     "iopub.execute_input": "2025-10-23T17:06:51.442135Z",
     "iopub.status.busy": "2025-10-23T17:06:51.441873Z",
     "iopub.status.idle": "2025-10-23T19:49:13.549001Z",
     "shell.execute_reply": "2025-10-23T19:49:13.548426Z",
     "shell.execute_reply.started": "2025-10-23T17:06:51.442113Z"
    },
    "trusted": true
   },
   "outputs": [
    {
     "name": "stdout",
     "output_type": "stream",
     "text": [
      "Epoch 1/10\n",
      "\u001b[1m1239/1239\u001b[0m \u001b[32m━━━━━━━━━━━━━━━━━━━━\u001b[0m\u001b[37m\u001b[0m \u001b[1m985s\u001b[0m 787ms/step - accuracy: 0.6068 - loss: 1.3946 - val_accuracy: 0.7439 - val_loss: 0.8552\n",
      "Epoch 2/10\n",
      "\u001b[1m1239/1239\u001b[0m \u001b[32m━━━━━━━━━━━━━━━━━━━━\u001b[0m\u001b[37m\u001b[0m \u001b[1m970s\u001b[0m 783ms/step - accuracy: 0.7400 - loss: 0.8528 - val_accuracy: 0.7920 - val_loss: 0.6963\n",
      "Epoch 3/10\n",
      "\u001b[1m1239/1239\u001b[0m \u001b[32m━━━━━━━━━━━━━━━━━━━━\u001b[0m\u001b[37m\u001b[0m \u001b[1m971s\u001b[0m 783ms/step - accuracy: 0.7785 - loss: 0.7232 - val_accuracy: 0.8046 - val_loss: 0.6285\n",
      "Epoch 4/10\n",
      "\u001b[1m1239/1239\u001b[0m \u001b[32m━━━━━━━━━━━━━━━━━━━━\u001b[0m\u001b[37m\u001b[0m \u001b[1m964s\u001b[0m 778ms/step - accuracy: 0.7956 - loss: 0.6579 - val_accuracy: 0.8179 - val_loss: 0.5927\n",
      "Epoch 5/10\n",
      "\u001b[1m1239/1239\u001b[0m \u001b[32m━━━━━━━━━━━━━━━━━━━━\u001b[0m\u001b[37m\u001b[0m \u001b[1m969s\u001b[0m 782ms/step - accuracy: 0.8145 - loss: 0.5801 - val_accuracy: 0.8231 - val_loss: 0.5716\n",
      "Epoch 6/10\n",
      "\u001b[1m1239/1239\u001b[0m \u001b[32m━━━━━━━━━━━━━━━━━━━━\u001b[0m\u001b[37m\u001b[0m \u001b[1m969s\u001b[0m 782ms/step - accuracy: 0.8303 - loss: 0.5260 - val_accuracy: 0.8294 - val_loss: 0.5569\n",
      "Epoch 7/10\n",
      "\u001b[1m1239/1239\u001b[0m \u001b[32m━━━━━━━━━━━━━━━━━━━━\u001b[0m\u001b[37m\u001b[0m \u001b[1m979s\u001b[0m 790ms/step - accuracy: 0.8488 - loss: 0.4708 - val_accuracy: 0.8368 - val_loss: 0.5417\n",
      "Epoch 8/10\n",
      "\u001b[1m1239/1239\u001b[0m \u001b[32m━━━━━━━━━━━━━━━━━━━━\u001b[0m\u001b[37m\u001b[0m \u001b[1m978s\u001b[0m 789ms/step - accuracy: 0.8621 - loss: 0.4248 - val_accuracy: 0.8314 - val_loss: 0.5483\n",
      "Epoch 9/10\n",
      "\u001b[1m1239/1239\u001b[0m \u001b[32m━━━━━━━━━━━━━━━━━━━━\u001b[0m\u001b[37m\u001b[0m \u001b[1m976s\u001b[0m 788ms/step - accuracy: 0.8703 - loss: 0.3930 - val_accuracy: 0.8420 - val_loss: 0.5338\n",
      "Epoch 10/10\n",
      "\u001b[1m1239/1239\u001b[0m \u001b[32m━━━━━━━━━━━━━━━━━━━━\u001b[0m\u001b[37m\u001b[0m \u001b[1m982s\u001b[0m 793ms/step - accuracy: 0.8851 - loss: 0.3544 - val_accuracy: 0.8426 - val_loss: 0.5443\n"
     ]
    }
   ],
   "source": [
    "history_bilstm = model_bilstm.fit(\n",
    "    X_train, y_train,\n",
    "    validation_split=0.2,\n",
    "    epochs=10,\n",
    "    batch_size=64,\n",
    "    verbose=1\n",
    ")"
   ]
  },
  {
   "cell_type": "code",
   "execution_count": 34,
   "metadata": {
    "execution": {
     "iopub.execute_input": "2025-10-23T19:49:13.551025Z",
     "iopub.status.busy": "2025-10-23T19:49:13.550550Z",
     "iopub.status.idle": "2025-10-23T19:49:13.568695Z",
     "shell.execute_reply": "2025-10-23T19:49:13.567022Z",
     "shell.execute_reply.started": "2025-10-23T19:49:13.551007Z"
    },
    "trusted": true
   },
   "outputs": [
    {
     "ename": "FileNotFoundError",
     "evalue": "[Errno 2] No such file or directory: 'glove.6B.100d.txt'",
     "output_type": "error",
     "traceback": [
      "\u001b[0;31m---------------------------------------------------------------------------\u001b[0m",
      "\u001b[0;31mFileNotFoundError\u001b[0m                         Traceback (most recent call last)",
      "\u001b[0;32m/tmp/ipykernel_37/4168162592.py\u001b[0m in \u001b[0;36m<cell line: 0>\u001b[0;34m()\u001b[0m\n\u001b[1;32m      1\u001b[0m \u001b[0;31m#load GloVe embeddings\u001b[0m\u001b[0;34m\u001b[0m\u001b[0;34m\u001b[0m\u001b[0m\n\u001b[1;32m      2\u001b[0m \u001b[0membedding_index\u001b[0m \u001b[0;34m=\u001b[0m \u001b[0;34m{\u001b[0m\u001b[0;34m}\u001b[0m\u001b[0;34m\u001b[0m\u001b[0;34m\u001b[0m\u001b[0m\n\u001b[0;32m----> 3\u001b[0;31m \u001b[0;32mwith\u001b[0m \u001b[0mopen\u001b[0m\u001b[0;34m(\u001b[0m\u001b[0;34m\"glove.6B.100d.txt\"\u001b[0m\u001b[0;34m,\u001b[0m \u001b[0mencoding\u001b[0m\u001b[0;34m=\u001b[0m\u001b[0;34m'utf8'\u001b[0m\u001b[0;34m)\u001b[0m \u001b[0;32mas\u001b[0m \u001b[0mf\u001b[0m\u001b[0;34m:\u001b[0m\u001b[0;34m\u001b[0m\u001b[0;34m\u001b[0m\u001b[0m\n\u001b[0m\u001b[1;32m      4\u001b[0m     \u001b[0;32mfor\u001b[0m \u001b[0mline\u001b[0m \u001b[0;32min\u001b[0m \u001b[0mf\u001b[0m\u001b[0;34m:\u001b[0m\u001b[0;34m\u001b[0m\u001b[0;34m\u001b[0m\u001b[0m\n\u001b[1;32m      5\u001b[0m         \u001b[0mvalues\u001b[0m \u001b[0;34m=\u001b[0m \u001b[0mline\u001b[0m\u001b[0;34m.\u001b[0m\u001b[0msplit\u001b[0m\u001b[0;34m(\u001b[0m\u001b[0;34m)\u001b[0m\u001b[0;34m\u001b[0m\u001b[0;34m\u001b[0m\u001b[0m\n",
      "\u001b[0;31mFileNotFoundError\u001b[0m: [Errno 2] No such file or directory: 'glove.6B.100d.txt'"
     ]
    }
   ],
   "source": [
    "#load GloVe embeddings\n",
    "embedding_index = {}\n",
    "with open(\"glove.6B.100d.txt\", encoding='utf8') as f:\n",
    "    for line in f:\n",
    "        values = line.split()\n",
    "        word = values[0]\n",
    "        coefficients = np.asarray(values[1:], dtype='float32')\n",
    "        embedding_index[word] = coefficients\n",
    "\n",
    "print(f\"Loaded {len(embedding_index)} word vectors.\")"
   ]
  },
  {
   "cell_type": "code",
   "execution_count": null,
   "metadata": {
    "execution": {
     "iopub.status.busy": "2025-10-23T19:49:13.569073Z",
     "iopub.status.idle": "2025-10-23T19:49:13.569274Z",
     "shell.execute_reply": "2025-10-23T19:49:13.569183Z",
     "shell.execute_reply.started": "2025-10-23T19:49:13.569174Z"
    },
    "trusted": true
   },
   "outputs": [],
   "source": [
    "#the embedding matrix\n",
    "embedding_dim = 100\n",
    "word_index = tokenizer.word_index\n",
    "num_words = min(max_words, len(word_index) + 1)\n",
    "\n",
    "embedding_matrix = np.zeros((num_words, embedding_dim))\n",
    "for word, i in word_index.items():\n",
    "    if i < max_words:\n",
    "        embedding_vector = embedding_index.get(word)\n",
    "        if embedding_vector is not None:\n",
    "            embedding_matrix[i] = embedding_vector\n"
   ]
  },
  {
   "cell_type": "code",
   "execution_count": null,
   "metadata": {
    "execution": {
     "iopub.status.busy": "2025-10-23T19:49:13.570630Z",
     "iopub.status.idle": "2025-10-23T19:49:13.570943Z",
     "shell.execute_reply": "2025-10-23T19:49:13.570797Z",
     "shell.execute_reply.started": "2025-10-23T19:49:13.570785Z"
    },
    "trusted": true
   },
   "outputs": [],
   "source": [
    "#bidirectional with glove embedinig\n",
    "inputs_bilstm = Input(shape=(max_len,), name=\"input_bilstm_pretrained\")\n",
    "\n",
    "# Use pretrained embeddings (non-trainable to preserve knowledge)\n",
    "embedding_layer = Embedding(\n",
    "    input_dim=num_words,\n",
    "    output_dim=embedding_dim,\n",
    "    weights=[embedding_matrix],\n",
    "    input_length=max_len,\n",
    "    trainable=False\n",
    ")(inputs_bilstm)\n",
    "\n",
    "hidden_bilstm = Bidirectional(LSTM(128, activation='tanh', kernel_initializer='glorot_uniform', dropout=0.5,recurrent_dropout=0.3))(embedding_layer)\n",
    "hidden_bilstm = Dropout(0.3)(hidden_bilstm)\n",
    "outputs_bilstm = Dense(num_classes, activation='softmax',kernel_initializer='glorot_uniform')(hidden_bilstm)\n",
    "\n",
    "model_bilstm_pretrained = Model(inputs=inputs_bilstm, outputs=outputs_bilstm, name=\"BiLSTM_Pretrained\")\n",
    "\n",
    "model_bilstm_pretrained.summary()"
   ]
  },
  {
   "cell_type": "code",
   "execution_count": null,
   "metadata": {
    "execution": {
     "iopub.status.busy": "2025-10-23T19:49:13.572529Z",
     "iopub.status.idle": "2025-10-23T19:49:13.572845Z",
     "shell.execute_reply": "2025-10-23T19:49:13.572697Z",
     "shell.execute_reply.started": "2025-10-23T19:49:13.572683Z"
    },
    "trusted": true
   },
   "outputs": [],
   "source": [
    "optimizer = Nadam(learning_rate=1e-3)\n",
    "model_bilstm_pretrained.compile(loss='sparse_categorical_crossentropy',optimizer=optimizer, metrics=['accuracy'])\n"
   ]
  },
  {
   "cell_type": "code",
   "execution_count": null,
   "metadata": {
    "execution": {
     "iopub.status.busy": "2025-10-23T19:49:13.573760Z",
     "iopub.status.idle": "2025-10-23T19:49:13.574136Z",
     "shell.execute_reply": "2025-10-23T19:49:13.573985Z",
     "shell.execute_reply.started": "2025-10-23T19:49:13.573970Z"
    },
    "trusted": true
   },
   "outputs": [],
   "source": [
    "history_bilstm_pretrained = model_bilstm_pretrained.fit(\n",
    "    X_train, y_train,\n",
    "    validation_split=0.2,\n",
    "    epochs=10,\n",
    "    batch_size=64,\n",
    "    verbose=1\n",
    ")\n"
   ]
  },
  {
   "cell_type": "code",
   "execution_count": null,
   "metadata": {
    "execution": {
     "iopub.status.busy": "2025-10-23T19:49:13.575200Z",
     "iopub.status.idle": "2025-10-23T19:49:13.575478Z",
     "shell.execute_reply": "2025-10-23T19:49:13.575318Z",
     "shell.execute_reply.started": "2025-10-23T19:49:13.575310Z"
    },
    "trusted": true
   },
   "outputs": [],
   "source": [
    "# 4. GRU Model\n",
    "inputs_gru = Input(shape=(max_len,), name=\"input_gru\")\n",
    "x_gru = Embedding(max_words, embedding_dim, input_length=max_len)(inputs_gru)\n",
    "hidden_gru = GRU(128, activation='tanh', kernel_initializer='glorot_uniform', dropout=0.5,recurrent_dropout=0.3)(x_gru)\n",
    "outputs_gru = Dense(num_classes, activation='softmax',kernel_initializer='glorot_uniform')(hidden_gru)\n",
    "model_gru = Model(inputs=inputs_gru, outputs=outputs_gru, name=\"GRU_Model\")\n",
    "model_gru.summary()"
   ]
  },
  {
   "cell_type": "code",
   "execution_count": null,
   "metadata": {
    "execution": {
     "iopub.status.busy": "2025-10-23T19:49:13.576513Z",
     "iopub.status.idle": "2025-10-23T19:49:13.576760Z",
     "shell.execute_reply": "2025-10-23T19:49:13.576646Z",
     "shell.execute_reply.started": "2025-10-23T19:49:13.576633Z"
    },
    "trusted": true
   },
   "outputs": [],
   "source": [
    "optimizer = Nadam(learning_rate=1e-3)\n",
    "model_gru.compile(loss='sparse_categorical_crossentropy', optimizer=optimizer, metrics=['accuracy'])\n"
   ]
  },
  {
   "cell_type": "code",
   "execution_count": null,
   "metadata": {
    "execution": {
     "iopub.status.busy": "2025-10-23T19:49:13.577989Z",
     "iopub.status.idle": "2025-10-23T19:49:13.578294Z",
     "shell.execute_reply": "2025-10-23T19:49:13.578152Z",
     "shell.execute_reply.started": "2025-10-23T19:49:13.578139Z"
    },
    "trusted": true
   },
   "outputs": [],
   "source": [
    "history_gru = model_gru.fit(\n",
    "    X_train, y_train,\n",
    "    validation_split=0.2,\n",
    "    epochs=10,\n",
    "    batch_size=64,\n",
    "    verbose=1\n",
    ")"
   ]
  },
  {
   "cell_type": "code",
   "execution_count": 36,
   "metadata": {
    "execution": {
     "iopub.execute_input": "2025-10-23T20:05:08.050453Z",
     "iopub.status.busy": "2025-10-23T20:05:08.050155Z",
     "iopub.status.idle": "2025-10-23T20:05:13.341306Z",
     "shell.execute_reply": "2025-10-23T20:05:13.340753Z",
     "shell.execute_reply.started": "2025-10-23T20:05:08.050433Z"
    },
    "trusted": true
   },
   "outputs": [
    {
     "name": "stdout",
     "output_type": "stream",
     "text": [
      "\u001b[1m775/775\u001b[0m \u001b[32m━━━━━━━━━━━━━━━━━━━━\u001b[0m\u001b[37m\u001b[0m \u001b[1m5s\u001b[0m 6ms/step - accuracy: 0.5580 - loss: 2.0128\n",
      "Test loss: 2.0057\n",
      "Test accuracy: 0.5594\n"
     ]
    }
   ],
   "source": [
    "loss, accuracy = model_rnn.evaluate(X_test, y_test)\n",
    "print(f\"Test loss: {loss:.4f}\")\n",
    "print(f\"Test accuracy: {accuracy:.4f}\")"
   ]
  },
  {
   "cell_type": "code",
   "execution_count": 37,
   "metadata": {
    "execution": {
     "iopub.execute_input": "2025-10-23T20:05:18.470571Z",
     "iopub.status.busy": "2025-10-23T20:05:18.470304Z",
     "iopub.status.idle": "2025-10-23T20:06:32.906423Z",
     "shell.execute_reply": "2025-10-23T20:06:32.905798Z",
     "shell.execute_reply.started": "2025-10-23T20:05:18.470555Z"
    },
    "trusted": true
   },
   "outputs": [
    {
     "name": "stdout",
     "output_type": "stream",
     "text": [
      "\u001b[1m775/775\u001b[0m \u001b[32m━━━━━━━━━━━━━━━━━━━━\u001b[0m\u001b[37m\u001b[0m \u001b[1m74s\u001b[0m 96ms/step - accuracy: 0.8430 - loss: 0.5264\n",
      "Test loss: 0.5354\n",
      "Test accuracy: 0.8419\n"
     ]
    }
   ],
   "source": [
    "loss, accuracy = model_lstm.evaluate(X_test, y_test)\n",
    "print(f\"Test loss: {loss:.4f}\")\n",
    "print(f\"Test accuracy: {accuracy:.4f}\")"
   ]
  },
  {
   "cell_type": "code",
   "execution_count": 38,
   "metadata": {
    "execution": {
     "iopub.execute_input": "2025-10-23T20:06:32.907623Z",
     "iopub.status.busy": "2025-10-23T20:06:32.907406Z",
     "iopub.status.idle": "2025-10-23T20:08:24.640738Z",
     "shell.execute_reply": "2025-10-23T20:08:24.639935Z",
     "shell.execute_reply.started": "2025-10-23T20:06:32.907607Z"
    },
    "trusted": true
   },
   "outputs": [
    {
     "name": "stdout",
     "output_type": "stream",
     "text": [
      "\u001b[1m775/775\u001b[0m \u001b[32m━━━━━━━━━━━━━━━━━━━━\u001b[0m\u001b[37m\u001b[0m \u001b[1m112s\u001b[0m 144ms/step - accuracy: 0.8442 - loss: 0.5371\n",
      "Test loss: 0.5501\n",
      "Test accuracy: 0.8393\n"
     ]
    }
   ],
   "source": [
    "loss, accuracy = model_bilstm.evaluate(X_test, y_test)\n",
    "print(f\"Test loss: {loss:.4f}\")\n",
    "print(f\"Test accuracy: {accuracy:.4f}\")"
   ]
  },
  {
   "cell_type": "code",
   "execution_count": null,
   "metadata": {
    "execution": {
     "iopub.status.busy": "2025-10-23T19:49:13.583774Z",
     "iopub.status.idle": "2025-10-23T19:49:13.584094Z",
     "shell.execute_reply": "2025-10-23T19:49:13.583938Z",
     "shell.execute_reply.started": "2025-10-23T19:49:13.583924Z"
    },
    "trusted": true
   },
   "outputs": [],
   "source": [
    "loss, accuracy = model_bilstm_pretrained.evaluate(X_test, y_test)\n",
    "print(f\"Test loss: {loss:.4f}\")\n",
    "print(f\"Test accuracy: {accuracy:.4f}\")"
   ]
  },
  {
   "cell_type": "code",
   "execution_count": null,
   "metadata": {
    "execution": {
     "iopub.status.busy": "2025-10-23T19:49:13.585077Z",
     "iopub.status.idle": "2025-10-23T19:49:13.585395Z",
     "shell.execute_reply": "2025-10-23T19:49:13.585235Z",
     "shell.execute_reply.started": "2025-10-23T19:49:13.585222Z"
    },
    "trusted": true
   },
   "outputs": [],
   "source": [
    "loss, accuracy = model_gru.evaluate(X_test, y_test)\n",
    "print(f\"Test loss: {loss:.4f}\")\n",
    "print(f\"Test accuracy: {accuracy:.4f}\")"
   ]
  },
  {
   "cell_type": "code",
   "execution_count": 39,
   "metadata": {
    "execution": {
     "iopub.execute_input": "2025-10-23T20:08:24.642479Z",
     "iopub.status.busy": "2025-10-23T20:08:24.641899Z",
     "iopub.status.idle": "2025-10-23T20:08:24.896404Z",
     "shell.execute_reply": "2025-10-23T20:08:24.895542Z",
     "shell.execute_reply.started": "2025-10-23T20:08:24.642459Z"
    },
    "trusted": true
   },
   "outputs": [],
   "source": [
    "model_rnn.save(\"RNN.keras\")\n",
    "model_lstm.save(\"LSTM.keras\")\n",
    "model_bilstm.save(\"Bidirectional_LSTM.keras\")\n",
    "#model_bilstm_pretrained.save(\"Embed_Bi_LSTM.keras\")\n",
    "#model_gru.save(\"GRU.keras\")"
   ]
  },
  {
   "cell_type": "code",
   "execution_count": 40,
   "metadata": {
    "execution": {
     "iopub.execute_input": "2025-10-23T20:08:43.412978Z",
     "iopub.status.busy": "2025-10-23T20:08:43.412534Z",
     "iopub.status.idle": "2025-10-23T20:08:43.876074Z",
     "shell.execute_reply": "2025-10-23T20:08:43.875425Z",
     "shell.execute_reply.started": "2025-10-23T20:08:43.412944Z"
    },
    "trusted": true
   },
   "outputs": [],
   "source": [
    "import pickle\n",
    "\n",
    "# Save tokenizer\n",
    "with open('tokenizer.pkl', 'wb') as f:\n",
    "    pickle.dump(tokenizer, f)\n",
    "\n",
    "# Save label encoder\n",
    "with open('label_encoder.pkl', 'wb') as f:\n",
    "    pickle.dump(label_encoder, f)"
   ]
  },
  {
   "cell_type": "code",
   "execution_count": 1,
   "metadata": {},
   "outputs": [
    {
     "name": "stdout",
     "output_type": "stream",
     "text": [
      "Overwriting jobs_final.py\n"
     ]
    }
   ],
   "source": [
    "%%writefile jobs_final.py\n",
    "import base64\n",
    "import os\n",
    "import streamlit as st\n",
    "import numpy as np\n",
    "import pandas as pd\n",
    "from pathlib import Path\n",
    "from tensorflow.keras.models import load_model\n",
    "from tensorflow.keras.preprocessing.sequence import pad_sequences\n",
    "from tensorflow.keras.optimizers import Nadam\n",
    "import pickle\n",
    "import re\n",
    "import logging\n",
    "from io import BytesIO\n",
    "import warnings\n",
    "import plotly.express as px\n",
    "from wordcloud import WordCloud\n",
    "import matplotlib.pyplot as plt\n",
    "\n",
    "# ------------------------------\n",
    "# Basic config / logging\n",
    "# ------------------------------\n",
    "logging.basicConfig(level=logging.ERROR)\n",
    "warnings.filterwarnings('ignore')\n",
    "\n",
    "st.set_page_config(\n",
    "    page_title='Job Title Predictor',\n",
    "    layout='wide',\n",
    "    initial_sidebar_state='auto'\n",
    ")\n",
    "\n",
    "# ------------------------------\n",
    "# Background image setup\n",
    "# ------------------------------\n",
    "def set_background_image(image_path: str):\n",
    "    if not Path(image_path).exists():\n",
    "        st.warning(f\"Background image not found: {image_path}\")\n",
    "        return\n",
    "\n",
    "    with open(image_path, \"rb\") as f:\n",
    "        encoded = f.read()\n",
    "    b64 = base64.b64encode(encoded).decode()\n",
    "\n",
    "    st.markdown(f\"\"\"\n",
    "    <style>\n",
    "    .stApp {{\n",
    "        background-image: url(\"data:image/jpeg;base64,{b64}\");\n",
    "        background-size: cover;\n",
    "        background-position: center;\n",
    "        background-repeat: no-repeat;\n",
    "        background-attachment: fixed;\n",
    "    }}\n",
    "    .stApp::before {{\n",
    "        content: \"\";\n",
    "        position: fixed;\n",
    "        top: 0;\n",
    "        left: 0;\n",
    "        width: 100%;\n",
    "        height: 100%;\n",
    "        background-color: rgba(0, 0, 0, 0);  /* ← Adjust this value */\n",
    "        z-index: -1;\n",
    "}}\n",
    "    .app-backdrop {{\n",
    "        background: rgba(255,255,255,0.85);\n",
    "        padding: 12px;\n",
    "        border-radius: 8px;\n",
    "        position: relative;\n",
    "        z-index: 10;\n",
    "    }}\n",
    "    </style>\n",
    "    \"\"\", unsafe_allow_html=True)\n",
    "\n",
    "# Helpers: load artifacts & preprocessing\n",
    "try:\n",
    "    cache_resource = st.cache_resource\n",
    "except Exception:\n",
    "    cache_resource = st.cache(allow_output_mutation=True)\n",
    "\n",
    "@cache_resource\n",
    "def load_artifacts():\n",
    "    with open('tokenizer.pkl', 'rb') as f:\n",
    "        tokenizer = pickle.load(f)\n",
    "    with open('label_encoder.pkl', 'rb') as f:\n",
    "        label_encoder = pickle.load(f)\n",
    "    model = load_model('LSTM.keras', compile=False)\n",
    "    optimizer = Nadam(learning_rate=1e-3)\n",
    "    model.compile(loss='sparse_categorical_crossentropy', optimizer=optimizer, metrics=['accuracy'])\n",
    "    return tokenizer, label_encoder, model\n",
    "\n",
    "def clean_text(text):\n",
    "    if not isinstance(text, str): return ''\n",
    "    text = text.lower()\n",
    "    text = re.sub(r'job description[a-z]*', '', text)\n",
    "    text = re.sub(r'[^a-zA-Z\\s]', ' ', text)\n",
    "    text = re.sub(r'\\s+', ' ', text).strip()\n",
    "    return text\n",
    "\n",
    "def predict_top_k(model, tokenizer, label_encoder, text, max_len=200, k=3):\n",
    "    seq = tokenizer.texts_to_sequences([text])\n",
    "    padded = pad_sequences(seq, maxlen=max_len, padding='post', truncating='post')\n",
    "    probs = model.predict(padded, verbose=0)[0]\n",
    "    top_idx = probs.argsort()[::-1][:k]\n",
    "    labels = label_encoder.inverse_transform(top_idx)\n",
    "    scores = probs[top_idx]\n",
    "    return list(labels), list(scores)\n",
    "\n",
    "def create_wordcloud(text):\n",
    "    wordcloud = WordCloud(width=800, height=400, background_color='white').generate(text)\n",
    "    fig, ax = plt.subplots(figsize=(10, 5))\n",
    "    ax.imshow(wordcloud, interpolation='bilinear')\n",
    "    ax.axis('off')\n",
    "    return fig\n",
    "\n",
    "def main():\n",
    "    set_background_image(\"pexels-ruslan-burlaka-40570-140945.jpg\")\n",
    "\n",
    "    st.markdown('<div class=\"app-backdrop\">', unsafe_allow_html=True)\n",
    "    st.title('Job Title Prediction from Description')\n",
    "    st.write('Paste a job description and the model will predict the most likely job title / category.')\n",
    "    st.markdown('</div>', unsafe_allow_html=True)\n",
    "\n",
    "    with st.spinner('Loading model and artifacts...'):\n",
    "        try:\n",
    "            tokenizer, label_encoder, model = load_artifacts()\n",
    "        except Exception:\n",
    "            st.error(\"Failed loading artifacts. Ensure tokenizer.pkl, label_encoder.pkl, and LSTM.keras exist.\")\n",
    "            return\n",
    "\n",
    "    st.sidebar.header('Options & Info')\n",
    "    st.sidebar.write(f'Model: LSTM.keras')\n",
    "    st.sidebar.write(f'Classes: {len(label_encoder.classes_)}')\n",
    "    top_k = st.sidebar.slider('Show top K predictions', min_value=1, max_value=10, value=3)\n",
    "\n",
    "    st.sidebar.markdown('---')\n",
    "    st.sidebar.markdown('Examples:')\n",
    "    example = st.sidebar.selectbox('Pick a sample description', [\n",
    "        '',\n",
    "        'We are looking for a software engineer with experience in Python, TensorFlow, and REST APIs.',\n",
    "        'Seeking a marketing manager to lead product campaigns and manage social media.',\n",
    "        'Experienced data scientist required: SQL, Python, machine learning models, production deployment.',\n",
    "        'Administrative assistant needed for scheduling, record keeping, and customer support.'\n",
    "    ])\n",
    "\n",
    "    st.markdown('<div class=\"app-backdrop\" style=\"margin-top:15px;\">', unsafe_allow_html=True)\n",
    "    description = st.text_area('Paste your job description here:', value=example, height=220)\n",
    "\n",
    "    col_left, col_right = st.columns([3,1])\n",
    "    with col_right:\n",
    "        if st.button('Clear'):\n",
    "            description = ''\n",
    "\n",
    "    if st.button('Predict Job Title'):\n",
    "        if not description or len(description.strip()) < 10:\n",
    "            st.warning('Please paste a longer job description (at least ~10 characters).')\n",
    "        else:\n",
    "            cleaned = clean_text(description)\n",
    "            labels, scores = predict_top_k(model, tokenizer, label_encoder, cleaned, max_len=200, k=top_k)\n",
    "\n",
    "            res_col_left, res_col_right = st.columns(2)\n",
    "            with res_col_left:\n",
    "                st.markdown('<div class=\"prediction-box\">', unsafe_allow_html=True)\n",
    "                if labels:\n",
    "                    st.success(f'Primary prediction: {labels[0]} — {scores[0]*100:.2f}% confidence')\n",
    "                else:\n",
    "                    st.error(\"No prediction returned.\")\n",
    "                st.markdown('</div>', unsafe_allow_html=True)\n",
    "\n",
    "                st.subheader('Top predictions')\n",
    "                results = pd.DataFrame({\n",
    "                    'Job Category': labels,\n",
    "                    'Confidence': [f'{s*100:.2f}%' for s in scores]\n",
    "                })\n",
    "                st.table(results)\n",
    "\n",
    "            with res_col_right:\n",
    "                st.subheader('Confidence Distribution')\n",
    "                if labels and scores:\n",
    "                    fig = px.pie(\n",
    "                        values=[s * 100 for s in scores],\n",
    "                        names=labels,\n",
    "                        title='Prediction Confidence Distribution',\n",
    "                        hole=0.4\n",
    "                    )\n",
    "                    st.plotly_chart(fig, use_container_width=True)\n",
    "\n",
    "            st.subheader('Key Terms Visualization')\n",
    "            wc_fig = create_wordcloud(cleaned)\n",
    "            if wc_fig:\n",
    "                st.pyplot(wc_fig)\n",
    "\n",
    "            with st.expander(\"View Processed Text\"):\n",
    "                st.subheader('Description (cleaned)')\n",
    "                st.write(cleaned)\n",
    "                st.subheader('Original description')\n",
    "                st.write(description)\n",
    "\n",
    "            results_df = pd.DataFrame({\n",
    "                'label': labels,\n",
    "                'confidence': [float(s) for s in scores],\n",
    "                'confidence_pct': [f'{s*100:.2f}%' for s in scores]\n",
    "            })\n",
    "            csv_buf = BytesIO()\n",
    "            results_df.to_csv(csv_buf, index=False)\n",
    "            csv_buf.seek(0)\n",
    "            st.download_button(\n",
    "                label='Download Results (CSV)',\n",
    "                data=csv_buf,\n",
    "                file_name='job_predictions.csv',\n",
    "                mime='text/csv'\n",
    "            )\n",
    "\n",
    "    st.markdown('</div>', unsafe_allow_html=True)\n",
    "\n",
    "    st.markdown('---')\n",
    "    st.markdown(\n",
    "        '<div class=\"small\">Note: Predictions are based on a trained model and may not be perfect. '\n",
    "        'Consider this as an assistive suggestion.</div>',\n",
    "        unsafe_allow_html=True\n",
    "    )\n",
    "\n",
    "if __name__ == '__main__':\n",
    "    main()\n"
   ]
  },
  {
   "cell_type": "code",
   "execution_count": 1,
   "metadata": {},
   "outputs": [
    {
     "name": "stderr",
     "output_type": "stream",
     "text": [
      "UsageError: Line magic function `%%writefile` not found.\n"
     ]
    }
   ],
   "source": [
    "#updated\n",
    "%%writefile jobs_final.py\n",
    "import base64\n",
    "import os\n",
    "import streamlit as st\n",
    "import numpy as np\n",
    "import pandas as pd\n",
    "from pathlib import Path\n",
    "from tensorflow.keras.models import load_model\n",
    "from tensorflow.keras.preprocessing.sequence import pad_sequences\n",
    "from tensorflow.keras.optimizers import Nadam\n",
    "import pickle\n",
    "import re\n",
    "import logging\n",
    "from io import BytesIO\n",
    "import warnings\n",
    "import plotly.express as px\n",
    "from wordcloud import WordCloud\n",
    "import matplotlib.pyplot as plt\n",
    "\n",
    "\n",
    "logging.basicConfig(level=logging.ERROR)\n",
    "warnings.filterwarnings('ignore')\n",
    "\n",
    "st.set_page_config(\n",
    "    page_title='Job Title Predictor',\n",
    "    layout='wide',\n",
    "    initial_sidebar_state='auto'\n",
    ")\n",
    "\n",
    "\n",
    "def set_background_image(image_path: str):\n",
    "    if not Path(image_path).exists():\n",
    "        st.warning(f\"Background image not found: {image_path}\")\n",
    "        return\n",
    "    with open(image_path, \"rb\") as f:\n",
    "        encoded = f.read()\n",
    "    b64 = base64.b64encode(encoded).decode()\n",
    "    st.markdown(f\"\"\"\n",
    "    <style>\n",
    "    .stApp {{\n",
    "        background-image: url(\"data:image/jpeg;base64,{b64}\");\n",
    "        background-size: cover;\n",
    "        background-position: center;\n",
    "        background-repeat: no-repeat;\n",
    "        background-attachment: fixed;\n",
    "    }}\n",
    "    .stApp::before {{\n",
    "        content: \"\";\n",
    "        position: fixed;\n",
    "        top: 0;\n",
    "        left: 0;\n",
    "        width: 100%;\n",
    "        height: 100%;\n",
    "        background-color: rgba(0, 0, 0, 0);\n",
    "        z-index: -1;\n",
    "    }}\n",
    "    .app-backdrop {{\n",
    "        background: rgba(255,255,255,0.85);\n",
    "        padding: 12px;\n",
    "        border-radius: 8px;\n",
    "        position: relative;\n",
    "        z-index: 10;\n",
    "    }}\n",
    "    </style>\n",
    "    \"\"\", unsafe_allow_html=True)\n",
    "\n",
    "try:\n",
    "    cache_resource = st.cache_resource\n",
    "except Exception:\n",
    "    cache_resource = st.cache(allow_output_mutation=True)\n",
    "\n",
    "@cache_resource\n",
    "def load_artifacts(model_name='LSTM.keras'):\n",
    "    with open('tokenizer.pkl', 'rb') as f:\n",
    "        tokenizer = pickle.load(f)\n",
    "    with open('label_encoder.pkl', 'rb') as f:\n",
    "        label_encoder = pickle.load(f)\n",
    "    model_path = os.path.join('models', model_name)\n",
    "    model = load_model(model_path, compile=False)\n",
    "    optimizer = Nadam(learning_rate=1e-3)\n",
    "    model.compile(loss='sparse_categorical_crossentropy', optimizer=optimizer, metrics=['accuracy'])\n",
    "    return tokenizer, label_encoder, model\n",
    "\n",
    "def clean_text(text):\n",
    "    if not isinstance(text, str): return ''\n",
    "    text = text.lower()\n",
    "    text = re.sub(r'job description[a-z]*', '', text)\n",
    "    text = re.sub(r'[^a-zA-Z\\s]', ' ', text)\n",
    "    text = re.sub(r'\\s+', ' ', text).strip()\n",
    "    return text\n",
    "\n",
    "def predict_top_k(model, tokenizer, label_encoder, text, max_len=200, k=3):\n",
    "    seq = tokenizer.texts_to_sequences([text])\n",
    "    padded = pad_sequences(seq, maxlen=max_len, padding='post', truncating='post')\n",
    "    probs = model.predict(padded, verbose=0)[0]\n",
    "    top_idx = probs.argsort()[::-1][:k]\n",
    "    labels = label_encoder.inverse_transform(top_idx)\n",
    "    scores = probs[top_idx]\n",
    "    return list(labels), list(scores)\n",
    "\n",
    "def create_wordcloud(text):\n",
    "    wordcloud = WordCloud(width=800, height=400, background_color='white').generate(text)\n",
    "    fig, ax = plt.subplots(figsize=(10, 5))\n",
    "    ax.imshow(wordcloud, interpolation='bilinear')\n",
    "    ax.axis('off')\n",
    "    return fig\n",
    "\n",
    "def main():\n",
    "    set_background_image(\"pexels-ruslan-burlaka-40570-140945.jpg\")\n",
    "\n",
    "    st.markdown('<div class=\"app-backdrop\">', unsafe_allow_html=True)\n",
    "    st.title('Job Title Prediction from Description')\n",
    "    st.write('Paste a job description and the model will predict the most likely job title / category.')\n",
    "    st.markdown('</div>', unsafe_allow_html=True)\n",
    "\n",
    "    # Sidebar: model selector\n",
    "    st.sidebar.header('Options & Info')\n",
    "    model_choices = sorted([f for f in os.listdir('models') if f.endswith('.keras')])\n",
    "    selected_model = st.sidebar.selectbox('Choose model', model_choices)\n",
    "\n",
    "    with st.spinner(f'Loading model: {selected_model}'):\n",
    "        try:\n",
    "            tokenizer, label_encoder, model = load_artifacts(selected_model)\n",
    "        except Exception:\n",
    "            st.error(f\"Failed loading model: {selected_model}\")\n",
    "            return\n",
    "\n",
    "    st.sidebar.write(f'Model: {selected_model}')\n",
    "    st.sidebar.write(f'Classes: {len(label_encoder.classes_)}')\n",
    "    top_k = st.sidebar.slider('Show top K predictions', min_value=1, max_value=10, value=3)\n",
    "\n",
    "    st.sidebar.markdown('---')\n",
    "    st.sidebar.markdown('Examples:')\n",
    "    example = st.sidebar.selectbox('Pick a sample description', [\n",
    "        '',\n",
    "        'We are looking for a software engineer with experience in Python, TensorFlow, and REST APIs.',\n",
    "        'Seeking a marketing manager to lead product campaigns and manage social media.',\n",
    "        'Experienced data scientist required: SQL, Python, machine learning models, production deployment.',\n",
    "        'Administrative assistant needed for scheduling, record keeping, and customer support.'\n",
    "    ])\n",
    "\n",
    "    st.markdown('<div class=\"app-backdrop\" style=\"margin-top:15px;\">', unsafe_allow_html=True)\n",
    "    description = st.text_area('Paste your job description here:', value=example, height=220)\n",
    "\n",
    "    col_left, col_right = st.columns([3,1])\n",
    "    with col_right:\n",
    "        if st.button('Clear'):\n",
    "            description = ''\n",
    "\n",
    "    if st.button('Predict Job Title'):\n",
    "        if not description or len(description.strip()) < 10:\n",
    "            st.warning('Please paste a longer job description (at least ~10 characters).')\n",
    "        else:\n",
    "            cleaned = clean_text(description)\n",
    "            labels, scores = predict_top_k(model, tokenizer, label_encoder, cleaned, max_len=200, k=top_k)\n",
    "\n",
    "            res_col_left, res_col_right = st.columns(2)\n",
    "            with res_col_left:\n",
    "                st.markdown('<div class=\"prediction-box\">', unsafe_allow_html=True)\n",
    "                if labels:\n",
    "                    st.success(f'Primary prediction: {labels[0]} — {scores[0]*100:.2f}% confidence')\n",
    "                else:\n",
    "                    st.error(\"No prediction returned.\")\n",
    "                st.markdown('</div>', unsafe_allow_html=True)\n",
    "\n",
    "                st.subheader('Top predictions')\n",
    "                results = pd.DataFrame({\n",
    "                    'Job Category': labels,\n",
    "                    'Confidence': [f'{s*100:.2f}%' for s in scores]\n",
    "                })\n",
    "                st.table(results)\n",
    "\n",
    "            with res_col_right:\n",
    "                st.subheader('Confidence Distribution')\n",
    "                if labels and scores:\n",
    "                    fig = px.pie(\n",
    "                        values=[s * 100 for s in scores],\n",
    "                        names=labels,\n",
    "                        title='Prediction Confidence Distribution',\n",
    "                        hole=0.4\n",
    "                    )\n",
    "                    st.plotly_chart(fig, use_container_width=True)\n",
    "\n",
    "            st.subheader('Key Terms Visualization')\n",
    "            wc_fig = create_wordcloud(cleaned)\n",
    "            if wc_fig:\n",
    "                st.pyplot(wc_fig)\n",
    "\n",
    "            with st.expander(\"View Processed Text\"):\n",
    "                st.subheader('Description (cleaned)')\n",
    "                st.write(cleaned)\n",
    "                st.subheader('Original description')\n",
    "                st.write(description)\n",
    "\n",
    "            results_df = pd.DataFrame({\n",
    "                'label': labels,\n",
    "                'confidence': [float(s) for s in scores],\n",
    "                'confidence_pct': [f'{s*100:.2f}%' for s in scores]\n",
    "            })\n",
    "            csv_buf = BytesIO()\n",
    "            results_df.to_csv(csv_buf, index=False)\n",
    "            csv_buf.seek(0)\n",
    "            st.download_button(\n",
    "                label='Download Results (CSV)',\n",
    "                data=csv_buf,\n",
    "                file_name='job_predictions.csv',\n",
    "                mime='text/csv'\n",
    "            )\n",
    "\n",
    "    st.markdown('</div>', unsafe_allow_html=True)\n",
    "\n",
    "    st.markdown('---')\n",
    "    st.markdown(\n",
    "        '<div class=\"small\">Note: Predictions are based on a trained model and may not be perfect. '\n",
    "        'Consider this as an assistive suggestion.</div>',\n",
    "        unsafe_allow_html=True\n",
    "    )\n",
    "\n",
    "if __name__ == '__main__':\n",
    "    main()\n"
   ]
  },
  {
   "cell_type": "code",
   "execution_count": null,
   "metadata": {
    "execution": {
     "iopub.status.busy": "2025-10-23T19:49:13.590067Z",
     "iopub.status.idle": "2025-10-23T19:49:13.590272Z",
     "shell.execute_reply": "2025-10-23T19:49:13.590180Z",
     "shell.execute_reply.started": "2025-10-23T19:49:13.590172Z"
    },
    "trusted": true
   },
   "outputs": [],
   "source": [
    "streamlit run jobs_final.py"
   ]
  },
  {
   "cell_type": "code",
   "execution_count": 2,
   "metadata": {},
   "outputs": [
    {
     "name": "stderr",
     "output_type": "stream",
     "text": [
      "INFO: Successfully saved requirements file in ./requirements.txt\n"
     ]
    }
   ],
   "source": [
    "! pipreqs ./"
   ]
  }
 ],
 "metadata": {
  "kaggle": {
   "accelerator": "gpu",
   "dataSources": [
    {
     "datasetId": 3680745,
     "sourceId": 9200871,
     "sourceType": "datasetVersion"
    }
   ],
   "dockerImageVersionId": 31154,
   "isGpuEnabled": true,
   "isInternetEnabled": true,
   "language": "python",
   "sourceType": "notebook"
  },
  "kernelspec": {
   "display_name": "machine_learning2",
   "language": "python",
   "name": "python3"
  },
  "language_info": {
   "codemirror_mode": {
    "name": "ipython",
    "version": 3
   },
   "file_extension": ".py",
   "mimetype": "text/x-python",
   "name": "python",
   "nbconvert_exporter": "python",
   "pygments_lexer": "ipython3",
   "version": "3.11.9"
  }
 },
 "nbformat": 4,
 "nbformat_minor": 4
}
